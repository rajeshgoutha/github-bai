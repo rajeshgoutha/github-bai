{
 "cells": [
  {
   "cell_type": "markdown",
   "metadata": {},
   "source": [
    "##### Assignment 1"
   ]
  },
  {
   "cell_type": "markdown",
   "metadata": {},
   "source": [
    "##### Question 1\n",
    "1.\tSuppose the cover price of a book is Rs. 200, but bookstores get a 25% discount. Shipping costs Rs. 40 for the first copy and Rs. 10 for each additional copy. Write a Python program to calculate the total wholesale cost for 60 copies. [8 Marks]\n",
    "\n",
    "##### Sol:"
   ]
  },
  {
   "cell_type": "code",
   "execution_count": 93,
   "metadata": {},
   "outputs": [],
   "source": [
    "# Define a function for calculating the whole sale cost for n books\n",
    "def get_whole_sale_cost(no_of_copies):\n",
    "    cover_price = 200\n",
    "    whole_sale_cost = 200 * 0.75 * no_of_copies + 10 * (no_of_copies-1) + 40\n",
    "    return whole_sale_cost\n"
   ]
  },
  {
   "cell_type": "code",
   "execution_count": 94,
   "metadata": {},
   "outputs": [
    {
     "data": {
      "text/plain": [
       "9630.0"
      ]
     },
     "execution_count": 94,
     "metadata": {},
     "output_type": "execute_result"
    }
   ],
   "source": [
    "get_whole_sale_cost(60)"
   ]
  },
  {
   "cell_type": "markdown",
   "metadata": {},
   "source": [
    "##### Question 2\n",
    "2.\tA number, x, is a power of y if it is divisible by y and x/y is a power of y. Write a function in Python that takes parameters x and y and returns True if x is a power of y. [8 Marks]\n",
    "##### Sol:"
   ]
  },
  {
   "cell_type": "code",
   "execution_count": 95,
   "metadata": {},
   "outputs": [],
   "source": [
    "# Define a function to return true if x is power of y\n",
    "def check_if_x_ispowerof_y(x,y):\n",
    "    if(x==1):\n",
    "        return True\n",
    "    else:\n",
    "        z=1\n",
    "        while(z < x):\n",
    "            z *= y\n",
    "        return (z == x)"
   ]
  },
  {
   "cell_type": "code",
   "execution_count": 96,
   "metadata": {},
   "outputs": [
    {
     "data": {
      "text/plain": [
       "True"
      ]
     },
     "execution_count": 96,
     "metadata": {},
     "output_type": "execute_result"
    }
   ],
   "source": [
    "check_if_x_ispowerof_y(125,5)"
   ]
  },
  {
   "cell_type": "markdown",
   "metadata": {},
   "source": [
    "##### Question 3\n",
    "3.\tWrite a function in Python that takes three parameters a, b, and c and returns their greatest common divisor. [8 Marks]\n",
    "##### Sol:"
   ]
  },
  {
   "cell_type": "code",
   "execution_count": 97,
   "metadata": {},
   "outputs": [],
   "source": [
    "# Define a function to return GCD of two parameters a and b\n",
    "def gcd2(a,b):\n",
    "    if(a==0):\n",
    "        return b\n",
    "    return gcd2(b % a, a)\n",
    "\n",
    "# Define a function to return GCD of three parameters using gcd2 function defined above\n",
    "def gcd(a,b,c):\n",
    "    res = gcd2(a,b)\n",
    "    return(gcd2(res,c))    "
   ]
  },
  {
   "cell_type": "code",
   "execution_count": 98,
   "metadata": {},
   "outputs": [
    {
     "data": {
      "text/plain": [
       "40"
      ]
     },
     "execution_count": 98,
     "metadata": {},
     "output_type": "execute_result"
    }
   ],
   "source": [
    "gcd(80,40,40)"
   ]
  },
  {
   "cell_type": "markdown",
   "metadata": {},
   "source": [
    "##### Question 4\n",
    "4.\tWrite a Python script that reads the current time and converts it to a time of day in hours, minutes, and seconds, plus the number of days since the epoch. [8 Marks]\n",
    "##### Sol:"
   ]
  },
  {
   "cell_type": "code",
   "execution_count": 99,
   "metadata": {},
   "outputs": [
    {
     "name": "stdout",
     "output_type": "stream",
     "text": [
      "Time of day in hours, minutes,seconds : 19, 05, 41\n",
      "Number of days since the epoch 18143.57\n"
     ]
    }
   ],
   "source": [
    "from datetime import datetime\n",
    "import time\n",
    "now = datetime.now()\n",
    "# Format the date to a time of day in hours, minutes and seconds\n",
    "formatted_date = now.strftime(\"%H, %M, %S\")\n",
    "print(\"Time of day in hours, minutes,seconds :\", formatted_date)\n",
    "\n",
    "# Get the number of seconds elapsed since the epoch using time.time() and then divide it by 86400 to get the number of seconds\n",
    "seconds_since_epoch = time.time()\n",
    "days_since_epoch = seconds_since_epoch/86400\n",
    "print(\"Number of days since the epoch\",round(days_since_epoch,2))"
   ]
  },
  {
   "cell_type": "markdown",
   "metadata": {},
   "source": [
    "##### Question 5\n",
    "5.\tWrite a function in Python that takes three integers as arguments, and that prints either “Yes” or “No”, depending on whether you can or cannot form a triangle from the given lengths. [8 Marks]\n",
    "Hint: If any of the three lengths is greater than the sum of the other two, then you cannot form a triangle. Otherwise, you can.\n",
    "\n",
    "##### Sol:"
   ]
  },
  {
   "cell_type": "code",
   "execution_count": 100,
   "metadata": {},
   "outputs": [],
   "source": [
    "# Define a function to check if any of the three lengths is greater than the sum of the other two and Print either \"Yes\" or \"No\" \n",
    "def isTraingle(a,b,c):\n",
    "    if(a+b < c):\n",
    "        print(\"No\")\n",
    "    elif (b+c < a):\n",
    "        print(\"No\")\n",
    "    elif(c+a < b):\n",
    "        print(\"No\")\n",
    "    else:\n",
    "        print(\"Yes\")"
   ]
  },
  {
   "cell_type": "code",
   "execution_count": 101,
   "metadata": {},
   "outputs": [
    {
     "name": "stdout",
     "output_type": "stream",
     "text": [
      "Yes\n"
     ]
    }
   ],
   "source": [
    "isTraingle(11,11,13)"
   ]
  },
  {
   "cell_type": "markdown",
   "metadata": {},
   "source": [
    "##### Question 7\n",
    "7.\tWrite a function in Python that takes a list of numbers and returns the cumulative sum; that is, a new list where the nth element is the sum of the first n + 1 elements from the original list. [8 Marks]\n",
    "Example:\n",
    ">>> t = [1, 2, 3]\n",
    ">>> cumulative_sum(t) [1, 3, 6]\n",
    "\n",
    "##### Sol:"
   ]
  },
  {
   "cell_type": "code",
   "execution_count": 102,
   "metadata": {},
   "outputs": [],
   "source": [
    "# Retrun cumulative sum using Numpy's cumsum method\n",
    "import numpy as np\n",
    "def cumilative_sum_usingnp(curr_list):\n",
    "    new_list = np.cumsum(curr_list)\n",
    "    return new_list\n",
    "# Retrun cumulative sum by custom implementation\n",
    "def cumilative_sum(curr_list):\n",
    "    new_list = curr_list\n",
    "    value = 0\n",
    "    j=0\n",
    "    for i in curr_list:        \n",
    "        value += i\n",
    "        new_list[j] = value        \n",
    "        j += 1\n",
    "    return new_list            "
   ]
  },
  {
   "cell_type": "code",
   "execution_count": 103,
   "metadata": {},
   "outputs": [
    {
     "data": {
      "text/plain": [
       "[88, 103, 123, 163, 178, 189]"
      ]
     },
     "execution_count": 103,
     "metadata": {},
     "output_type": "execute_result"
    }
   ],
   "source": [
    "cumilative_sum([88,15,20,40,15,11])"
   ]
  },
  {
   "cell_type": "markdown",
   "metadata": {},
   "source": [
    "##### Question 8\n",
    "8.\tWrite a Python program that reads a file, breaks each line into words, strips whitespace and punctuation from the words, and converts them to uppercase. [10 Marks]\n",
    "Hint: The string module provides a string named whitespace, which contains space, tab, new-­‐line, etc., and punctuation which contains the punctuation characters.\n",
    "\n",
    "import string\n",
    "\n",
    "string.punctuation '!\"#$%&'()*+,-­‐./:;<=>?@[\\]^_`{|}~'\n",
    "\n",
    "Also, you might consider using the string methods strip, replace and translate.\n",
    "\n",
    "\n",
    "##### Sol:"
   ]
  },
  {
   "cell_type": "code",
   "execution_count": 104,
   "metadata": {},
   "outputs": [
    {
     "name": "stdout",
     "output_type": "stream",
     "text": [
      "['BSHEB', 'WOKE', 'UP', 'AT', '6', 'AM', 'ITS', 'SO', 'EARLY', 'SHE', 'WAS', 'ONLY', '10', 'AWAKE', 'AND', 'BEGAN', 'DRINKING', 'COFFEE', 'IN', 'FRONT', 'OF', 'HER', 'COMP', 'UTER']\n"
     ]
    }
   ],
   "source": [
    "import pandas as pd\n",
    "import string\n",
    "\n",
    "# Read the txt file\n",
    "text_file = open(r\"C:\\01 Projects\\07 Personal_Projects\\00 ISB Course\\Assignments\\DAPD\\ProjectA\\text.txt\",\"r\")\n",
    "words_in_text_file = []\n",
    "\n",
    "# Define Translation table with string.punctuation characters as the characters that need to be replaced\n",
    "translation = eachline.maketrans(\"\",\"\", string.punctuation)\n",
    "\n",
    "for eachline in text_file:\n",
    "    # 1. It should be fine even if we don't use the strip() function at the beginning as we are any case splitting the word\n",
    "    # 2. After stripping the line with white spaces, we convert the line into upper characters and then apply the translation \n",
    "    # function to remove the string.punctuation characters\n",
    "    updated_line = eachline.strip().upper().translate(translation).split()\n",
    "    words_in_text_file += updated_line\n",
    "    \n",
    "print(words_in_text_file)"
   ]
  },
  {
   "cell_type": "markdown",
   "metadata": {},
   "source": [
    "##### Question 9\n",
    "9. Write a program that searches a directory and all of its subdirectories recursively, and returns a list of complete paths for all files with a given suffix (like .mp3). [8 Marks]\n",
    "Hint: os.path provides several useful functions for manipulating file and path names.\n",
    "\n",
    "##### Sol:"
   ]
  },
  {
   "cell_type": "code",
   "execution_count": 105,
   "metadata": {},
   "outputs": [
    {
     "name": "stdout",
     "output_type": "stream",
     "text": [
      "C:\\01 Projects\\07 Personal_Projects\\00 ISB Course\\Python\\Session 1\\capm_dem_copy.txt\n",
      "C:\\01 Projects\\07 Personal_Projects\\00 ISB Course\\Python\\Session 1\\file1.txt\n",
      "C:\\01 Projects\\07 Personal_Projects\\00 ISB Course\\Python\\Session 1\\testfolder\\capm_dem_copy.txt\n",
      "C:\\01 Projects\\07 Personal_Projects\\00 ISB Course\\Python\\Session 1\\testfolder\\newfolder\\capm_dem_copy.txt\n"
     ]
    }
   ],
   "source": [
    "import os\n",
    "\n",
    "dirPath = r\"C:\\01 Projects\\07 Personal_Projects\\00 ISB Course\\Python\"\n",
    "\n",
    "files = []\n",
    "givenSuffix = \".txt\"\n",
    "\n",
    "# Python method walk() generates the file names in a directory tree by walking the tree \n",
    "# r=root, d=directories, f = files\n",
    "for r, d, f in os.walk(dirPath):\n",
    "    for file in f:\n",
    "        if givenSuffix in file: # Condition to check if given suffix is present in file name\n",
    "            files.append(os.path.join(r, file))\n",
    "\n",
    "for f in files:\n",
    "    print(f)\n"
   ]
  }
 ],
 "metadata": {
  "kernelspec": {
   "display_name": "Python 3",
   "language": "python",
   "name": "python3"
  },
  "language_info": {
   "codemirror_mode": {
    "name": "ipython",
    "version": 3
   },
   "file_extension": ".py",
   "mimetype": "text/x-python",
   "name": "python",
   "nbconvert_exporter": "python",
   "pygments_lexer": "ipython3",
   "version": "3.7.3"
  }
 },
 "nbformat": 4,
 "nbformat_minor": 2
}
