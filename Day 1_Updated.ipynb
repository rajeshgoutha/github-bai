{
 "cells": [
  {
   "cell_type": "markdown",
   "metadata": {},
   "source": [
    "**Python Session 1**\n",
    "\n",
    "**Course Plan**\n",
    "\n",
    "+ We will learn Python from basics and will cover advanced concepts\n",
    "+ Language constructs, programming in Python, data cleaning and manipulation, data analysis, plotting, web scraping, textual analysis.\n",
    "+ First session will focus on building blocks of the language\n",
    "+ Completely hands-on approach\n",
    "+ Analogies to SAS, R, STATA wherever applicable"
   ]
  },
  {
   "cell_type": "markdown",
   "metadata": {},
   "source": [
    "**What is Python**\n",
    "\n",
    "+ High level, general purpose programming language\n",
    "+ First introduced in 1991\n",
    "+ Dynamic, interpreted language\n",
    "+ Language of choice of web programming, and scripting purposes\n",
    "+ Great tool for scientific computing community, explosive growth in the scientific computing and data analytics capabilities\n",
    "+ Fairly large scientific community and is used in a variety of settings such as financial research, algorithms development, options and derivatives pricing, financial modeling, trading systems, network analysis, and machine learning.\n",
    "+ No type declarations thus making coding short\n",
    "\n",
    "**Why Python?**\n",
    "\n",
    "+ Simple to understand, easy to learn\n",
    "+ Object oriented structure makes programming very easy\n",
    "+ Platform independent \n",
    "+ Open source and has support from a huge scientific community that contributes actively to Python development\n",
    "+ A number of libraries for research tasks and the capabilities are growing by the day\n",
    "+ De facto choice for textual data analytics"
   ]
  },
  {
   "cell_type": "markdown",
   "metadata": {},
   "source": [
    "**Important Packages**\n",
    "\n",
    "+ NumPy: Numerical Python (NumPy) is the foundation package. Other packages and libraries are built on top of NumPy. \n",
    "+ pandas: Provides data structures and processing capabilities similar to ones found in R and Excel. Also provides time series capabilities.\n",
    "+ SciPy: Collection of packages to tackle a number of computing problems in data analytics, statistics, and linear algebra.\n",
    "+ matplotlib: Plotting library. Allows to plot a number of 2D graphs and will serve as primary graphics library.\n",
    "+ IPython: Interactive Python shell that allows quick prototyping of code. \n",
    "+ Statsmodels: Allows data analysis, statistical model estimation, statistical tests, and regressions, and function plotting. \n",
    "+ BeautifulSoup: Python library for crawling the web. Allows you to pull data from HTML and XML pages. \n",
    "+ Scikits: A number of packages for running simulations, machine learning, data mining, optimization, and time series models. \n",
    "+ RPy: Integrates Python with R, allows calling of R commands from Python code"
   ]
  },
  {
   "cell_type": "markdown",
   "metadata": {},
   "source": [
    "**Installation**\n",
    "\n",
    "+ Many Python distributions available. We will use Enthought Canopy or Anaconda.\n",
    "+ Built specifically for scientific community. \n",
    "+ Collection of more that 14000 packages, and an excellent development environment."
   ]
  },
  {
   "cell_type": "markdown",
   "metadata": {},
   "source": [
    "**Programming in Python**\n",
    "\n",
    "Two basic modes:\n",
    "\n",
    "+ Interactive: Quick way of writing and testing code. Interactive in nature and gives results on the fly.\n",
    "+ Interactive mode is recommended when some idea/result is to be quickly tested.\n",
    "+ Script: Write complete code just like in any other language. Run all or some part of the code.\n",
    "+ Code can be stored in scripts and run at a later time. \n",
    "+ Python scripts end with a .py extension\n",
    "\n",
    "**IPython notebook**\n",
    "\n",
    "IPython is a software package in Python that serves as a research notebook. IPython has a seamless interface using which you can write notes as well as perform data analysis in the same file. The data analysis part allows you to write the code and run it from within the notebook itself. The results also are displayed in the notebook. Among other things, IPython provides:\n",
    "\n",
    "1. An interactive shell\n",
    "2. Notebook that is browser based. The notebook supports text, code, expressions, graphs and interactive data visualization, embed images and videos, and also links to web pages on the Internet. \n",
    "3. Tools for parallel computing.\n",
    "4. Import external code and run it.\n",
    "5. Export the notebook in a number of formats.\n",
    "\n",
    "\n",
    "\n",
    "**Creating an IPython notebook**\n",
    "\n",
    "In order to create an IPython notebook, choose File -> New -> IPython notebook. \n",
    "\n",
    "Hitting Alt-Enter creates a new cell. A cell is nothing but a placeholder where you can write some text or execute code."
   ]
  },
  {
   "cell_type": "code",
   "execution_count": 23,
   "metadata": {},
   "outputs": [
    {
     "name": "stdout",
     "output_type": "stream",
     "text": [
      "An example of code execution in IPython\n"
     ]
    },
    {
     "data": {
      "text/plain": [
       "12489"
      ]
     },
     "execution_count": 23,
     "metadata": {},
     "output_type": "execute_result"
    }
   ],
   "source": [
    "print(\"An example of code execution in IPython\")\n",
    "23*543"
   ]
  },
  {
   "cell_type": "code",
   "execution_count": null,
   "metadata": {},
   "outputs": [],
   "source": []
  },
  {
   "cell_type": "markdown",
   "metadata": {},
   "source": [
    "In order to find help on some concept, make use of ? If you want to find a function or make use of wildcard entry, make use of followed by ? A quickref command gives you a quick reference to the most commonly used commands in Python."
   ]
  },
  {
   "cell_type": "code",
   "execution_count": 24,
   "metadata": {},
   "outputs": [],
   "source": [
    "import collections\n",
    "collections.namedtuple?"
   ]
  },
  {
   "cell_type": "code",
   "execution_count": 25,
   "metadata": {},
   "outputs": [],
   "source": [
    "import numpy as np\n",
    "np.*mean*?"
   ]
  },
  {
   "cell_type": "code",
   "execution_count": 26,
   "metadata": {},
   "outputs": [
    {
     "name": "stdout",
     "output_type": "stream",
     "text": [
      "hi\n"
     ]
    }
   ],
   "source": [
    "print(\"hi\")\n",
    "np."
   ]
  },
  {
   "cell_type": "markdown",
   "metadata": {},
   "source": [
    "Tab is a very handy feature in Python. It gives you a list of all the functions and commands that are associated with a package (such as NumPy). For example, if you type np. and then press tab, a dropdown will come up with the list of all the functions associate with np. By using this, you do not have to rememeber the functions specifics and can just use tab completion."
   ]
  },
  {
   "cell_type": "markdown",
   "metadata": {},
   "source": [
    "If you want to know the histroy of commands, make use of history command. This feature also allows you to extract code from a IPython notebook to a separate file. "
   ]
  },
  {
   "cell_type": "code",
   "execution_count": 27,
   "metadata": {},
   "outputs": [
    {
     "name": "stdout",
     "output_type": "stream",
     "text": [
      "list = [ 'abcd', 786 , 2.23, 'ISB', 70.2 ]\n",
      "tinylist = [123, 'ISB']\n",
      "\n",
      "print list          # Prints complete list\n",
      "print list[0]       # Prints first element of the list\n",
      "print list[1:3]     # Prints elements starting from 2nd till 3rd \n",
      "print list[2:]      # Prints elements starting from 3rd element\n",
      "print tinylist * 2  # Prints list two times\n",
      "print list + tinylist # Prints concatenated lists\n",
      "print len(list)\n",
      "list = [ 'abcd', 786 , 2.23, 'ISB', 70.2 ]\n",
      "tinylist = [123, 'ISB']\n",
      "\n",
      "print(list)          # Prints complete list\n",
      "print(list[0])       # Prints first element of the list\n",
      "print(list[1:3])     # Prints elements starting from 2nd till 3rd \n",
      "print(list[2:])      # Prints elements starting from 3rd element\n",
      "print(tinylist * 2)  # Prints list two times\n",
      "print(list + tinylist) # Prints concatenated lists\n",
      "print(len(list))\n",
      "list = [ 'abcd', 786 , 2.23, 'ISB', 70.2 ]\n",
      "tinylist = [123, 'ISB']\n",
      "\n",
      "print(list)          # Prints complete list\n",
      "print(list[0])       # Prints first element of the list\n",
      "print(list[1:3])     # Prints elements starting from 2nd till 3rd \n",
      "print(list[2:])      # Prints elements starting from 3rd element\n",
      "print(tinylist * 2)  # Prints list two times\n",
      "print(list + tinylist) # Prints concatenated lists\n",
      "print(len(list))\n",
      "tinylistmodified=tinylist*3\n",
      "print(tinylistmodified)\n",
      "alist = [ 'abcd', 786 , 2.23, 'ISB', 70.2 ]\n",
      "blist = alist\n",
      "alist = alist*2\n",
      "print(alist)\n",
      "list = ['Ajay', 'Vijay', 'Ramesh']\n",
      "list.append('Sujay')         \n",
      "list.insert(0, 'NewGuy')       \n",
      "list.extend(['Guy1', 'Guy2']) \n",
      "print(list)  \n",
      "print(list.index('Guy1')) \n",
      "list.remove('Guy1')\n",
      "list.pop(1)\n",
      "print(list)\n",
      "nums = range(5)    # range is a built-in function that creates a list of integers\n",
      "print(nums)         # Prints \"[0, 1, 2, 3, 4]\"\n",
      "print(nums[2:4])    # Get a slice from index 2 to 4 (exclusive); prints \"[2, 3]\"\n",
      "print(nums[2:])     # Get a slice from index 2 to the end; prints \"[2, 3, 4]\"\n",
      "print(nums[:2])     # Get a slice from the start to index 2 (exclusive); prints \"[0, 1]\"\n",
      "print(nums[:])      # Get a slice of the whole list; prints [\"0, 1, 2, 3, 4]\"\n",
      "print(nums[:-1])    # Slice indices can be negative; prints [\"0, 1, 2, 3]\"\n",
      "nums[2:4] = [8, 9] # Assign a new sublist to a slice\n",
      "print nums         # Prints \"[0, 1, 8, 9, 4]\"\n",
      "nums = range(5)    # range is a built-in function that creates a list of integers\n",
      "print(nums)         # Prints \"[0, 1, 2, 3, 4]\"\n",
      "print(nums[2:4])    # Get a slice from index 2 to 4 (exclusive); prints \"[2, 3]\"\n",
      "print(nums[2:])     # Get a slice from index 2 to the end; prints \"[2, 3, 4]\"\n",
      "print(nums[:2])     # Get a slice from the start to index 2 (exclusive); prints \"[0, 1]\"\n",
      "print(nums[:])      # Get a slice of the whole list; prints [\"0, 1, 2, 3, 4]\"\n",
      "print(nums[:-1])    # Slice indices can be negative; prints [\"0, 1, 2, 3]\"\n",
      "nums[2:4] = [8, 9] # Assign a new sublist to a slice\n",
      "print(nums)         # Prints \"[0, 1, 8, 9, 4]\"\n",
      "nums = range(5)    # range is a built-in function that creates a list of integers\n",
      "print(nums)         # Prints \"[0, 1, 2, 3, 4]\"\n",
      "print(nums[2:4])    # Get a slice from index 2 to 4 (exclusive); prints \"[2, 3]\"\n",
      "print(nums[2:])     # Get a slice from index 2 to the end; prints \"[2, 3, 4]\"\n",
      "print(nums[:2])     # Get a slice from the start to index 2 (exclusive); prints \"[0, 1]\"\n",
      "print(nums[:])      # Get a slice of the whole list; prints [\"0, 1, 2, 3, 4]\"\n",
      "print(nums[:-1])    # Slice indices can be negative; prints [\"0, 1, 2, 3]\"\n",
      "#nums[2:4] = [8, 9] # Assign a new sublist to a slice\n",
      "print(nums)         # Prints \"[0, 1, 8, 9, 4]\"\n",
      "nums = list(range(5))    # range is a built-in function that creates a list of integers\n",
      "print(nums)         # Prints \"[0, 1, 2, 3, 4]\"\n",
      "print(nums[2:4])    # Get a slice from index 2 to 4 (exclusive); prints \"[2, 3]\"\n",
      "print(nums[2:])     # Get a slice from index 2 to the end; prints \"[2, 3, 4]\"\n",
      "print(nums[:2])     # Get a slice from the start to index 2 (exclusive); prints \"[0, 1]\"\n",
      "print(nums[:])      # Get a slice of the whole list; prints [\"0, 1, 2, 3, 4]\"\n",
      "print(nums[:-1])    # Slice indices can be negative; prints [\"0, 1, 2, 3]\"\n",
      "#nums[2:4] = [8, 9] # Assign a new sublist to a slice\n",
      "print(nums)         # Prints \"[0, 1, 8, 9, 4]\"\n",
      "nums = range(5)    # range is a built-in function that creates a list of integers\n",
      "nums=list(nums)\n",
      "print(nums)         # Prints \"[0, 1, 2, 3, 4]\"\n",
      "print(nums[2:4])    # Get a slice from index 2 to 4 (exclusive); prints \"[2, 3]\"\n",
      "print(nums[2:])     # Get a slice from index 2 to the end; prints \"[2, 3, 4]\"\n",
      "print(nums[:2])     # Get a slice from the start to index 2 (exclusive); prints \"[0, 1]\"\n",
      "print(nums[:])      # Get a slice of the whole list; prints [\"0, 1, 2, 3, 4]\"\n",
      "print(nums[:-1])    # Slice indices can be negative; prints [\"0, 1, 2, 3]\"\n",
      "#nums[2:4] = [8, 9] # Assign a new sublist to a slice\n",
      "print(nums)         # Prints \"[0, 1, 8, 9, 4]\"\n",
      "nums = range(0,5)    # range is a built-in function that creates a list of integers\n",
      "nums=list(nums)\n",
      "print(nums)         # Prints \"[0, 1, 2, 3, 4]\"\n",
      "print(nums[2:4])    # Get a slice from index 2 to 4 (exclusive); prints \"[2, 3]\"\n",
      "print(nums[2:])     # Get a slice from index 2 to the end; prints \"[2, 3, 4]\"\n",
      "print(nums[:2])     # Get a slice from the start to index 2 (exclusive); prints \"[0, 1]\"\n",
      "print(nums[:])      # Get a slice of the whole list; prints [\"0, 1, 2, 3, 4]\"\n",
      "print(nums[:-1])    # Slice indices can be negative; prints [\"0, 1, 2, 3]\"\n",
      "#nums[2:4] = [8, 9] # Assign a new sublist to a slice\n",
      "print(nums)         # Prints \"[0, 1, 8, 9, 4]\"\n",
      "nums = range(0,5)    # range is a built-in function that creates a list of integers\n",
      "#nums=list(nums)\n",
      "print(nums)         # Prints \"[0, 1, 2, 3, 4]\"\n",
      "print(nums[2:4])    # Get a slice from index 2 to 4 (exclusive); prints \"[2, 3]\"\n",
      "print(nums[2:])     # Get a slice from index 2 to the end; prints \"[2, 3, 4]\"\n",
      "print(nums[:2])     # Get a slice from the start to index 2 (exclusive); prints \"[0, 1]\"\n",
      "print(nums[:])      # Get a slice of the whole list; prints [\"0, 1, 2, 3, 4]\"\n",
      "print(nums[:-1])    # Slice indices can be negative; prints [\"0, 1, 2, 3]\"\n",
      "#nums[2:4] = [8, 9] # Assign a new sublist to a slice\n",
      "print(nums)         # Prints \"[0, 1, 8, 9, 4]\"\n",
      "#Sorting\n",
      "numberlist = [1, 5, 23, 1 ,54,2, 54,23, 54,76, 76,34,87]\n",
      "numberlist.sort()\n",
      "print(numberlist)\n",
      "print(len(numberlist))\n",
      "print(max(numberlist))\n",
      "print(min(numberlist))\n",
      "string = ['abcd', 'efg', 'hijk', 'lmn']\n",
      "print(sorted(string, key=len))\n",
      "string = ['abc', 'efg', 'hijk', 'lmn']\n",
      "print(sorted(string, key=len))\n",
      "string = ['abcd', 'efg', 'hijk', 'lmn']\n",
      "print(sorted(string, key=len))\n",
      "list(range(20, 10, -1))\n",
      "[20, 19, 18, 17, 16, 15, 14, 13, 12, 11]\n",
      "nums = range(0,5)    # range is a built-in function that creates a list of integers\n",
      "nums = [*nums]\n",
      "#nums=list(nums)\n",
      "print(nums)         # Prints \"[0, 1, 2, 3, 4]\"\n",
      "print(nums[2:4])    # Get a slice from index 2 to 4 (exclusive); prints \"[2, 3]\"\n",
      "print(nums[2:])     # Get a slice from index 2 to the end; prints \"[2, 3, 4]\"\n",
      "print(nums[:2])     # Get a slice from the start to index 2 (exclusive); prints \"[0, 1]\"\n",
      "print(nums[:])      # Get a slice of the whole list; prints [\"0, 1, 2, 3, 4]\"\n",
      "print(nums[:-1])    # Slice indices can be negative; prints [\"0, 1, 2, 3]\"\n",
      "#nums[2:4] = [8, 9] # Assign a new sublist to a slice\n",
      "print(nums)         # Prints \"[0, 1, 8, 9, 4]\"\n",
      "string = ['abcd', 'efg', 'hijk', 'lmn',123,346]\n",
      "print(sorted(string, key=len))\n",
      "string = ['abcd', 'efg', 'hijk', 'lmn',123,346]\n",
      "print(sorted(string))\n",
      "string = ['abcd', 'efg', 'hijk', 'lmn',123,346]\n",
      "print(string.sort)\n",
      "string = ['abcd', 'efg', 'hijk', 'lmn',123,346]\n",
      "string?\n",
      "print(\"An example of code execution in IPython\")\n",
      "23*543\n",
      "print(\"An example of code execution in IPython\")\n",
      "23*543\n",
      "import collections\n",
      "collections.namedtuple?\n",
      "import numpy as np\n",
      "np.*mean*?\n",
      "print(\"hi\")\n",
      "%history\n"
     ]
    }
   ],
   "source": [
    "%history"
   ]
  },
  {
   "cell_type": "markdown",
   "metadata": {},
   "source": [
    "**Running external code files in IPython**\n",
    "\n",
    "If you want to run external code files in Python, make use of %run command followed by the path of the file. IPython shell will execute the code and will display the results."
   ]
  },
  {
   "cell_type": "code",
   "execution_count": 28,
   "metadata": {},
   "outputs": [
    {
     "name": "stderr",
     "output_type": "stream",
     "text": [
      "ERROR:root:File `'D:\\\\fibonacci.py'` not found.\n"
     ]
    }
   ],
   "source": [
    "%run \"D:\\fibonacci.py\""
   ]
  },
  {
   "cell_type": "markdown",
   "metadata": {},
   "source": [
    "**Syntax Formalities**\n",
    "\n",
    "+ Python is case sensitive\n",
    "+ Python makes use of whitespace for code structuring and marking logical breaks in the code (In contrast to other programming languages that use braces)\n",
    "+ End of line marks end of a statement, so does not require a semicolon at end of each statement\n",
    "+ Whitespace at the beginning of the line is important. This is called indentation.\n",
    "+ Leading whitespace (spaces and tabs) at the beginning of the logical line is used to determine the indentation level of the logical line.\n",
    "+ Statements which go together must have the same indentation. Each such set of statements is called a block."
   ]
  },
  {
   "cell_type": "code",
   "execution_count": 29,
   "metadata": {},
   "outputs": [
    {
     "name": "stdout",
     "output_type": "stream",
     "text": [
      "Value is  text\n",
      "I repeat, the value is  text\n"
     ]
    }
   ],
   "source": [
    "i = 5\n",
    "a =7 \n",
    "i ='text'\n",
    "print ('Value is ', i) # Error! Notice a single space at the start of the li\n",
    "print ('I repeat, the value is ', i)"
   ]
  },
  {
   "cell_type": "markdown",
   "metadata": {},
   "source": [
    "**Comments** \n",
    "\n",
    "One line comments are denoted by (#) at the start of line\n",
    "Multiple line comments start with ''' and end with '''"
   ]
  },
  {
   "cell_type": "code",
   "execution_count": 30,
   "metadata": {},
   "outputs": [
    {
     "name": "stdout",
     "output_type": "stream",
     "text": [
      "We are out of the comment\n"
     ]
    }
   ],
   "source": [
    "# this is a single line comment\n",
    "'''\n",
    "print(\"We are in a comment\")\n",
    "print (\"We are still in a comment\")\n",
    "'''\n",
    "print(\"We are out of the comment\")"
   ]
  },
  {
   "cell_type": "code",
   "execution_count": 31,
   "metadata": {},
   "outputs": [
    {
     "data": {
      "text/plain": [
       "'\\nfor x in alist:\\n    if x < anumber:\\n            print(x)\\n    else:\\n        print(-x)\\n        \\nis similar to\\n\\nfor x in alist \\n{if x < anumber  {\\n        print(x)\\n    }\\n    else\\n    {\\n        print(-x)\\n    }\\n}\\n'"
      ]
     },
     "execution_count": 31,
     "metadata": {},
     "output_type": "execute_result"
    }
   ],
   "source": [
    "#Example of indentation\n",
    "'''\n",
    "for x in alist:\n",
    "    if x < anumber:\n",
    "            print(x)\n",
    "    else:\n",
    "        print(-x)\n",
    "        \n",
    "is similar to\n",
    "\n",
    "for x in alist \n",
    "{if x < anumber  {\n",
    "        print(x)\n",
    "    }\n",
    "    else\n",
    "    {\n",
    "        print(-x)\n",
    "    }\n",
    "}\n",
    "'''"
   ]
  },
  {
   "cell_type": "code",
   "execution_count": 32,
   "metadata": {},
   "outputs": [
    {
     "name": "stdout",
     "output_type": "stream",
     "text": [
      "3\n",
      "5\n"
     ]
    }
   ],
   "source": [
    "x = 3\n",
    "if x < 5:\n",
    "    print(x)\n",
    "print(5)"
   ]
  },
  {
   "cell_type": "code",
   "execution_count": 33,
   "metadata": {},
   "outputs": [
    {
     "name": "stdout",
     "output_type": "stream",
     "text": [
      "21\n"
     ]
    }
   ],
   "source": [
    "x = 21\n",
    "y =25\n",
    "print(x)\n",
    "if x<10:\n",
    "    print(x)\n",
    "    \n",
    "    print (y)"
   ]
  },
  {
   "cell_type": "markdown",
   "metadata": {},
   "source": [
    "**Variables and Data Structures**\n",
    "\n",
    "+ Built-in data types:\n",
    "Integer, Floating point, String, Boolean Values, Date and Time\n",
    "\n",
    "+ Additional data structures:\n",
    "Tuples, Lists, Dictionary\n",
    "\n",
    "+ A variable is a name that refers to a value.\n",
    "+ No need to specify type to a variable; Python automatically assigns.\n"
   ]
  },
  {
   "cell_type": "code",
   "execution_count": 37,
   "metadata": {},
   "outputs": [
    {
     "name": "stdout",
     "output_type": "stream",
     "text": [
      "100\n",
      "1000.0\n",
      "Ajay\n",
      "11113.0\n",
      "02\n"
     ]
    }
   ],
   "source": [
    "counter = 100          # An integer assignment\n",
    "miles   = 1000.0       # A floating point\n",
    "name    = 'Ajay'        # A string\n",
    "\n",
    "print(counter)\n",
    "print(miles)\n",
    "print(name)\n",
    "\n",
    "a = 11111\n",
    "b = 2.0\n",
    "c = \"0\"\n",
    "d = \"2\"\n",
    "print(b + a)\n",
    "print(c  + d)\n"
   ]
  },
  {
   "cell_type": "markdown",
   "metadata": {},
   "source": [
    "**Strings**\n",
    "\n",
    "+ Built-in string class named \"str\" with many handy features\n",
    "+ In addition to numerical data processing, Python has very strong string processing capabilities. \n",
    "+ Subsets of strings can be taken using the slice operator ( [ ] and [ : ] ) with indexes starting at 0 in the beginning of the string and working their way from -1 at the end.\n",
    "+ The plus ( + ) sign is the string concatenation operator and the asterisk ( * ) is the repetition operator.\n",
    "+ Strings in Python are immutable. Unlike other datasets such as lists, you cannot manipulate individual string values. In order to do so, you have to take subsets of strings and form a new string. \n",
    "+ A string can be converted to a numerical type and vice versa (wherever applicable). Many a times, raw data, although numeric, is coded in string format. This feature provides a clean way to make sure all of the data is in numeric form.\n",
    "+ Strings are sequence of characters and can be tokenized.\n",
    "+ Strings and numbers can also be formatted.\n",
    "\n"
   ]
  },
  {
   "cell_type": "code",
   "execution_count": 38,
   "metadata": {},
   "outputs": [
    {
     "name": "stdout",
     "output_type": "stream",
     "text": [
      "Hello World\n",
      "H\n",
      "llo\n",
      "llo World\n",
      "Hello WorldHello World\n",
      "Hello WorldTEST\n"
     ]
    }
   ],
   "source": [
    "str = 'Hello World' \n",
    "print (str)    # prints complete string\n",
    "print (str[0]) # prints first character of string\n",
    "print (str[2:5])   #prints characters starting from 3rd to 5th \n",
    "print (str[2:])    #prints string starting from 3rd character\n",
    "print (str*2)    #prints string two times\n",
    "print (str + \"TEST\")   # prints concatenated string"
   ]
  },
  {
   "cell_type": "code",
   "execution_count": 42,
   "metadata": {},
   "outputs": [
    {
     "name": "stdout",
     "output_type": "stream",
     "text": [
      "h\n",
      "this is a string\n",
      "this is a longer string\n",
      "40\n"
     ]
    },
    {
     "ename": "ValueError",
     "evalue": "invalid literal for int() with base 10: 'hi'",
     "output_type": "error",
     "traceback": [
      "\u001b[1;31m---------------------------------------------------------------------------\u001b[0m",
      "\u001b[1;31mValueError\u001b[0m                                Traceback (most recent call last)",
      "\u001b[1;32m<ipython-input-42-331ce6bb19fc>\u001b[0m in \u001b[0;36m<module>\u001b[1;34m\u001b[0m\n\u001b[0;32m     12\u001b[0m \u001b[1;33m\u001b[0m\u001b[0m\n\u001b[0;32m     13\u001b[0m \u001b[0ma\u001b[0m \u001b[1;33m=\u001b[0m \u001b[1;34m\"hi\"\u001b[0m\u001b[1;33m\u001b[0m\u001b[1;33m\u001b[0m\u001b[0m\n\u001b[1;32m---> 14\u001b[1;33m \u001b[0manum\u001b[0m \u001b[1;33m=\u001b[0m \u001b[0mint\u001b[0m\u001b[1;33m(\u001b[0m\u001b[0ma\u001b[0m\u001b[1;33m)\u001b[0m\u001b[1;33m\u001b[0m\u001b[1;33m\u001b[0m\u001b[0m\n\u001b[0m\u001b[0;32m     15\u001b[0m \u001b[0mprint\u001b[0m \u001b[1;33m(\u001b[0m\u001b[0manum\u001b[0m\u001b[1;33m)\u001b[0m\u001b[1;33m\u001b[0m\u001b[1;33m\u001b[0m\u001b[0m\n\u001b[0;32m     16\u001b[0m \u001b[1;33m\u001b[0m\u001b[0m\n",
      "\u001b[1;31mValueError\u001b[0m: invalid literal for int() with base 10: 'hi'"
     ]
    }
   ],
   "source": [
    "str =\"hello\"\n",
    "print(str[-5])\n",
    "\n",
    "a = 'this is a string'\n",
    "b = a.replace('string','longer string')\n",
    "print (a) \n",
    "print (b)\n",
    "\n",
    "a = '20'\n",
    "anum = int(a)\n",
    "print (anum + anum)\n",
    "\n",
    "a = \"hi\"\n",
    "anum = int(a)\n",
    "print (anum)\n",
    "\n"
   ]
  },
  {
   "cell_type": "code",
   "execution_count": 43,
   "metadata": {},
   "outputs": [
    {
     "name": "stdout",
     "output_type": "stream",
     "text": [
      "hi\n",
      "2\n"
     ]
    }
   ],
   "source": [
    "a = \"hi\"\n",
    "print (a)\n",
    "print (len(a))\n"
   ]
  },
  {
   "cell_type": "code",
   "execution_count": 45,
   "metadata": {},
   "outputs": [
    {
     "name": "stdout",
     "output_type": "stream",
     "text": [
      "['T', 'h', 'i', 's', ' ', 'i', 's', ' ', 'p', 'y', 't', 'h', 'o', 'n']\n"
     ]
    },
    {
     "data": {
      "text/plain": [
       "'4.56 Argentine Pesos is $1'"
      ]
     },
     "execution_count": 45,
     "metadata": {},
     "output_type": "execute_result"
    }
   ],
   "source": [
    "string = \"This is python\"\n",
    "strlist = [*string]\n",
    "print(strlist)\n",
    "\n",
    "format = '%.2f %s is $%d'\n",
    "format %(4.5560,'Argentine Pesos',1)"
   ]
  },
  {
   "cell_type": "code",
   "execution_count": 46,
   "metadata": {},
   "outputs": [
    {
     "name": "stdout",
     "output_type": "stream",
     "text": [
      "2\n",
      "['This', 'is', 'python']\n",
      "THIS IS PYTHON\n",
      "this is python\n",
      "tHIS IS PYTHON\n"
     ]
    }
   ],
   "source": [
    "print (string.count('s'))\n",
    "print (string.split(' '))\n",
    "print (string.upper())\n",
    "print (string.lower())\n",
    "print (string.swapcase())"
   ]
  },
  {
   "cell_type": "code",
   "execution_count": 47,
   "metadata": {},
   "outputs": [
    {
     "name": "stdout",
     "output_type": "stream",
     "text": [
      "This is a bright, sunny day\n",
      "This is a bright, sunny day      \n",
      "    This is a bright, sunny day\n",
      " : : : :T:h:i:s: :i:s: :a: :b:r:i:g:h:t:,: :s:u:n:n:y: :d:a:y: : : : : : \n",
      "37\n"
     ]
    }
   ],
   "source": [
    "str1 = \"    This is a bright, sunny day      \"\n",
    "print (str1.strip())\n",
    "print (str1.lstrip())\n",
    "print (str1.rstrip())\n",
    "print (\":\".join(str1))\n",
    "print (len(str1))"
   ]
  },
  {
   "cell_type": "code",
   "execution_count": 48,
   "metadata": {},
   "outputs": [
    {
     "name": "stdout",
     "output_type": "stream",
     "text": [
      "True\n"
     ]
    },
    {
     "data": {
      "text/plain": [
       "False"
      ]
     },
     "execution_count": 48,
     "metadata": {},
     "output_type": "execute_result"
    }
   ],
   "source": [
    "school = 'ISB'\n",
    "print ('S' in school)\n",
    "'L' in school"
   ]
  },
  {
   "cell_type": "code",
   "execution_count": 49,
   "metadata": {},
   "outputs": [
    {
     "name": "stdout",
     "output_type": "stream",
     "text": [
      "0.9032 <class 'float'>\n"
     ]
    }
   ],
   "source": [
    "x='X-DSPAM-Confidence:   0.9032'\n",
    "pos = x.find(':')\n",
    "num=float(x[pos+1:])\n",
    "print (num, type(num))"
   ]
  },
  {
   "cell_type": "code",
   "execution_count": 53,
   "metadata": {},
   "outputs": [
    {
     "name": "stdout",
     "output_type": "stream",
     "text": [
      "Hey how ar\n",
      "doing good\n",
      "Hey how ardoing good\n"
     ]
    }
   ],
   "source": [
    "#Let us do some exercises\n",
    "#1\n",
    "#Given below string, get first 10 characters, and last 10 characters.\n",
    "#Now join them to form a new string\n",
    "str = 'Hey how are you doing. We are doing good'\n",
    "strfirst = str[:10]\n",
    "print(strfirst)\n",
    "strlast = str[len(str)-10:]\n",
    "print(strlast)\n",
    "newStr=strfirst+strlast\n",
    "print(newStr)\n"
   ]
  },
  {
   "cell_type": "code",
   "execution_count": 57,
   "metadata": {},
   "outputs": [
    {
     "name": "stdout",
     "output_type": "stream",
     "text": [
      "Con\n",
      "Str\n",
      "Strfusing_Conings\n"
     ]
    }
   ],
   "source": [
    "#Consider two strings x and y\n",
    "x = 'Confusing'\n",
    "y = 'Strings'\n",
    "#Swap first three characters of each string and join them by an _\n",
    "xfirst3=x[:3]\n",
    "yfirst3=y[:3]\n",
    "print(xfirst3)\n",
    "print(yfirst3)\n",
    "\n",
    "xnew=yfirst3+x[3:]\n",
    "ynew=xfirst3+y[3:]\n",
    "\n",
    "print(xnew+'_'+ynew)"
   ]
  },
  {
   "cell_type": "markdown",
   "metadata": {},
   "source": [
    "**Lists**\n",
    "\n",
    "+ Lists, along with dictionary, are perhaps most important data types.\n",
    "+ A list contains items separated by commas and enclosed within square brackets ([]).\n",
    "+ All the items belonging to a list can be of different data type.\n",
    "+ Lists are similar to arrays in C language.\n",
    "+ The plus ( + ) sign is the list concatenation operator, and the asterisk ( * ) is the repetition operator.\n"
   ]
  },
  {
   "cell_type": "code",
   "execution_count": 58,
   "metadata": {},
   "outputs": [
    {
     "name": "stdout",
     "output_type": "stream",
     "text": [
      "['abcd', 786, 2.23, 'ISB', 70.2]\n",
      "abcd\n",
      "[786, 2.23]\n",
      "[2.23, 'ISB', 70.2]\n",
      "[123, 'ISB', 123, 'ISB']\n",
      "['abcd', 786, 2.23, 'ISB', 70.2, 123, 'ISB']\n",
      "5\n",
      "[123, 'ISB', 123, 'ISB', 123, 'ISB']\n"
     ]
    }
   ],
   "source": [
    "list = [ 'abcd', 786 , 2.23, 'ISB', 70.2 ]\n",
    "tinylist = [123, 'ISB']\n",
    "\n",
    "print(list)          # Prints complete list\n",
    "print(list[0])       # Prints first element of the list\n",
    "print(list[1:3])     # Prints elements starting from 2nd till 3rd \n",
    "print(list[2:])      # Prints elements starting from 3rd element\n",
    "print(tinylist * 2)  # Prints list two times\n",
    "print(list + tinylist) # Prints concatenated lists\n",
    "print(len(list))\n",
    "tinylistmodified=tinylist*3\n",
    "print(tinylistmodified)"
   ]
  },
  {
   "cell_type": "code",
   "execution_count": 4,
   "metadata": {},
   "outputs": [
    {
     "name": "stdout",
     "output_type": "stream",
     "text": [
      "['abcd', 786, 2.23, 'ISB', 70.2, 'abcd', 786, 2.23, 'ISB', 70.2]\n"
     ]
    }
   ],
   "source": [
    "alist = [ 'abcd', 786 , 2.23, 'ISB', 70.2 ]\n",
    "blist = alist\n",
    "alist = alist*2\n",
    "print(alist)"
   ]
  },
  {
   "cell_type": "code",
   "execution_count": 5,
   "metadata": {},
   "outputs": [
    {
     "name": "stdout",
     "output_type": "stream",
     "text": [
      "['NewGuy', 'Ajay', 'Vijay', 'Ramesh', 'Sujay', 'Guy1', 'Guy2']\n",
      "5\n",
      "['NewGuy', 'Vijay', 'Ramesh', 'Sujay', 'Guy2']\n"
     ]
    }
   ],
   "source": [
    "list = ['Ajay', 'Vijay', 'Ramesh']\n",
    "list.append('Sujay')         \n",
    "list.insert(0, 'NewGuy')       \n",
    "list.extend(['Guy1', 'Guy2']) \n",
    "print(list)  \n",
    "print(list.index('Guy1')) \n",
    "list.remove('Guy1')\n",
    "list.pop(1)\n",
    "print(list)"
   ]
  },
  {
   "cell_type": "code",
   "execution_count": 17,
   "metadata": {},
   "outputs": [
    {
     "name": "stdout",
     "output_type": "stream",
     "text": [
      "[0, 1, 2, 3, 4]\n",
      "[2, 3]\n",
      "[2, 3, 4]\n",
      "[0, 1]\n",
      "[0, 1, 2, 3, 4]\n",
      "[0, 1, 2, 3]\n",
      "[0, 1, 2, 3, 4]\n"
     ]
    }
   ],
   "source": [
    "nums = range(0,5)    # range is a built-in function that creates a list of integers\n",
    "nums = [*nums]\n",
    "#nums=list(nums)\n",
    "print(nums)         # Prints \"[0, 1, 2, 3, 4]\"\n",
    "print(nums[2:4])    # Get a slice from index 2 to 4 (exclusive); prints \"[2, 3]\"\n",
    "print(nums[2:])     # Get a slice from index 2 to the end; prints \"[2, 3, 4]\"\n",
    "print(nums[:2])     # Get a slice from the start to index 2 (exclusive); prints \"[0, 1]\"\n",
    "print(nums[:])      # Get a slice of the whole list; prints [\"0, 1, 2, 3, 4]\"\n",
    "print(nums[:-1])    # Slice indices can be negative; prints [\"0, 1, 2, 3]\"\n",
    "#nums[2:4] = [8, 9] # Assign a new sublist to a slice\n",
    "print(nums)         # Prints \"[0, 1, 8, 9, 4]\""
   ]
  },
  {
   "cell_type": "code",
   "execution_count": 13,
   "metadata": {},
   "outputs": [
    {
     "name": "stdout",
     "output_type": "stream",
     "text": [
      "[1, 1, 2, 5, 23, 23, 34, 54, 54, 54, 76, 76, 87]\n",
      "13\n",
      "87\n",
      "1\n"
     ]
    }
   ],
   "source": [
    "#Sorting\n",
    "numberlist = [1, 5, 23, 1 ,54,2, 54,23, 54,76, 76,34,87]\n",
    "numberlist.sort()\n",
    "print(numberlist)\n",
    "print(len(numberlist))\n",
    "print(max(numberlist))\n",
    "print(min(numberlist))"
   ]
  },
  {
   "cell_type": "code",
   "execution_count": 21,
   "metadata": {},
   "outputs": [],
   "source": [
    "string = ['abcd', 'efg', 'hijk', 'lmn']\n",
    "print(sorted(string, key=len))"
   ]
  },
  {
   "cell_type": "code",
   "execution_count": 15,
   "metadata": {},
   "outputs": [
    {
     "name": "stdout",
     "output_type": "stream",
     "text": [
      "['abc', 'efg', 'lmn', 'hijk']\n"
     ]
    }
   ],
   "source": [
    "string = ['abc', 'efg', 'hijk', 'lmn']\n",
    "print(sorted(string, key=len))"
   ]
  },
  {
   "cell_type": "code",
   "execution_count": 61,
   "metadata": {},
   "outputs": [
    {
     "name": "stdout",
     "output_type": "stream",
     "text": [
      "['fgha', 'adsfadsb', 'hijd', 'eff', 'abcg', 'lmi']\n"
     ]
    }
   ],
   "source": [
    "#You can even pass your own function\n",
    "string = ['abcg', 'eff', 'hijd', 'lmi','fgha','adsfadsb']\n",
    "\n",
    "def func1(l):\n",
    "    return l[-1]\n",
    "\n",
    "print(sorted(string, key=func1))"
   ]
  },
  {
   "cell_type": "markdown",
   "metadata": {},
   "source": [
    "**Dictionary**\n",
    "\n",
    "+ One of the most important built-in data structure.\n",
    "+ Python's dictionaries are kind of hash tables.\n",
    "+ They work like associative arrays and consist of key-value pairs. \n",
    "+ A dictionary key can be almost any Python type, but are usually numbers or strings. \n",
    "+ Values, on the other hand, can be any arbitrary Python object.\n",
    "+ Dictionaries are enclosed by curly braces ( { } ) and values can be assigned and accessed using square braces ( [] ).\n"
   ]
  },
  {
   "cell_type": "code",
   "execution_count": 62,
   "metadata": {},
   "outputs": [
    {
     "name": "stdout",
     "output_type": "stream",
     "text": [
      "This is one\n",
      "This is two\n",
      "{'name': 'isb', 'code': 6734, 'dept': 'sales'}\n",
      "dict_keys(['name', 'code', 'dept'])\n",
      "dict_values(['isb', 6734, 'sales'])\n"
     ]
    }
   ],
   "source": [
    "dict = {}\n",
    "dict['one'] = \"This is one\"\n",
    "dict[2]     = \"This is two\"\n",
    "tinydict = {'name': 'isb','code':6734, 'dept': 'sales'}\n",
    "\n",
    "print (dict['one'])       # Prints value for 'one' key\n",
    "print (dict[2])           # Prints value for 2 key\n",
    "print (tinydict)          # Prints complete dictionary\n",
    "print (tinydict.keys())   # Prints all the keys\n",
    "print (tinydict.values()) # Prints all the values\n"
   ]
  },
  {
   "cell_type": "markdown",
   "metadata": {},
   "source": [
    "Sets\n",
    "\n",
    "A set is an unordered collection of distinct elements"
   ]
  },
  {
   "cell_type": "code",
   "execution_count": 67,
   "metadata": {},
   "outputs": [
    {
     "name": "stdout",
     "output_type": "stream",
     "text": [
      "True\n",
      "False\n"
     ]
    }
   ],
   "source": [
    "animals = {'cat', 'dog'}\n",
    "print('cat' in animals)   # Check if an element is in a set; prints \"True\"\n",
    "print('fish' in animals)  # prints \"False\""
   ]
  },
  {
   "cell_type": "code",
   "execution_count": 69,
   "metadata": {},
   "outputs": [
    {
     "name": "stdout",
     "output_type": "stream",
     "text": [
      "True\n",
      "3\n"
     ]
    }
   ],
   "source": [
    "animals.add('fish')      # Add an element to a set\n",
    "print('fish' in animals)\n",
    "print(len(animals))      # Number of elements in a set;"
   ]
  },
  {
   "cell_type": "code",
   "execution_count": 71,
   "metadata": {},
   "outputs": [
    {
     "name": "stdout",
     "output_type": "stream",
     "text": [
      "3\n",
      "2\n"
     ]
    }
   ],
   "source": [
    "animals.add('cat')       # Adding an element that is already in the set does nothing\n",
    "print(len(animals))       \n",
    "animals.remove('cat')    # Remove an element from a set\n",
    "print(len(animals))"
   ]
  },
  {
   "cell_type": "markdown",
   "metadata": {},
   "source": [
    "**Data type conversion**\n",
    "\n",
    "+ Data from one type can be converted into another type using conversion operators.\n",
    "+ Comes in handy when data is not coded in proper format (number coded as string, date coded as string)\n",
    "+ int(variable) - converts variable to integer \n",
    "+ str(variable) - converts variable to string \n",
    "+ float(variable) - converts variable to float (number with decimal) \n"
   ]
  },
  {
   "cell_type": "markdown",
   "metadata": {},
   "source": [
    "**Operators**\n",
    "\n",
    "+ + (plus) : Adds two objects \n",
    "+ - (minus) Gives the subtraction of one number from the other; if the first operand is absent it is assumed to be zero.\n",
    "+ * (multiply) Gives the multiplication of the two numbers or returns the string repeated that many times.\n",
    "+ ** (power) Returns x to the power of y\n",
    "+ / (divide) Divide x by y\n",
    "+ // (floor division) Returns the floor of the quotient\n",
    "+ % (modulo) Returns the remainder of the division\n",
    "+ < (less than) Returns whether x is less than y. All comparison operators return True or False. Note the capitalization of these names.\n",
    "+ > (greater than) Returns whether x is greater than y\n",
    "+ <= (less than or equal to) Returns whether x is less than or equal to y\n",
    "+ >= (greater than or equal to) Returns whether x is greater than or equal to y\n",
    "+ == (equal to) Compares if the objects are equal\n",
    "+ != (not equal to) Compares if the objects are not equal\n",
    "+ not (boolean NOT) If x is True, it returns False. If x is False, it returns True.\n",
    "+ and (boolean AND) x and y returns False if x is False, else it returns evaluation of y\n",
    "+ or (boolean OR) If x is True, it returns True, else it returns evaluation of y"
   ]
  },
  {
   "cell_type": "code",
   "execution_count": 74,
   "metadata": {},
   "outputs": [
    {
     "name": "stdout",
     "output_type": "stream",
     "text": [
      "1 True\n",
      "2 False\n",
      "3 True\n",
      "4 False\n",
      "5 True\n",
      "6 True\n",
      "7 False\n",
      "8 True\n",
      "9 False\n",
      "16\n"
     ]
    }
   ],
   "source": [
    "a = 6\n",
    "b = 7\n",
    "c = 42\n",
    "print(1, a == 6)\n",
    "print(2, a == 7)\n",
    "print(3, a == 6 and b == 7)\n",
    "print(4, a == 7 and b == 7)\n",
    "print(5, not a == 7 and b == 7)\n",
    "print(6, a == 7 or b == 7)\n",
    "print(7, a == 7 or b == 6)\n",
    "print(8, not (a == 7 and b == 6))\n",
    "print(9, not a == 7 and b == 6)\n",
    "\n",
    "d=2**4\n",
    "print(d)"
   ]
  },
  {
   "cell_type": "markdown",
   "metadata": {},
   "source": [
    "**Conditional Statements**\n",
    "\n",
    "**If-statement**\n",
    "\n",
    "The if statement is used to check a condition: if the condition is true, we run a block of statements (called the if-block), else we process another block of statements (called the else-block). The else clause is optional."
   ]
  },
  {
   "cell_type": "code",
   "execution_count": 75,
   "metadata": {},
   "outputs": [
    {
     "name": "stdout",
     "output_type": "stream",
     "text": [
      "else\n"
     ]
    }
   ],
   "source": [
    "a = 20\n",
    "if a >= 22:\n",
    "   print(\"if\")\n",
    "elif a >= 21:\n",
    "   print(\"elif\")\n",
    "else:\n",
    "   print(\"else\")\n"
   ]
  },
  {
   "cell_type": "code",
   "execution_count": 76,
   "metadata": {},
   "outputs": [
    {
     "name": "stdout",
     "output_type": "stream",
     "text": [
      "Found Vijay\n"
     ]
    }
   ],
   "source": [
    "#Testing for an element in list\n",
    "list = ['Ajay', 'Vijay', 'Ramesh']\n",
    "if 'Vijay' in list:\n",
    "    print('Found Vijay')"
   ]
  },
  {
   "cell_type": "markdown",
   "metadata": {},
   "source": [
    "**While-statement**\n",
    "\n",
    "The while statement allows you to repeatedly execute a block of statements as long as a condition is true. A while statement is an example of what is called a looping statement. A while statement can have an optional else clause."
   ]
  },
  {
   "cell_type": "code",
   "execution_count": 79,
   "metadata": {},
   "outputs": [
    {
     "name": "stdout",
     "output_type": "stream",
     "text": [
      "The count is: 0\n",
      "The count is: 1\n",
      "The count is: 2\n",
      "The count is: 3\n",
      "The count is: 4\n",
      "The count is: 5\n",
      "The count is: 6\n",
      "The count is: 7\n",
      "The count is: 8\n",
      "End of while loop!\n"
     ]
    }
   ],
   "source": [
    "count = 0\n",
    "while (count < 9):\n",
    "   print('The count is:', count)\n",
    "   count = count + 1\n",
    "print(\"End of while loop!\")"
   ]
  },
  {
   "cell_type": "markdown",
   "metadata": {},
   "source": [
    "**For-statement**\n",
    "\n",
    "The for..in statement is another looping statement which iterates over a sequence of objects i.e. go through each item in a sequence. A sequence is just an ordered collection of items."
   ]
  },
  {
   "cell_type": "code",
   "execution_count": 82,
   "metadata": {},
   "outputs": [
    {
     "name": "stdout",
     "output_type": "stream",
     "text": [
      "1\n",
      "3\n",
      "5\n",
      "The for loop is over\n"
     ]
    }
   ],
   "source": [
    "for i in range(1,6,2):\n",
    "    print (i)\n",
    "else:\n",
    "   print(\"The for loop is over\")"
   ]
  },
  {
   "cell_type": "code",
   "execution_count": 83,
   "metadata": {},
   "outputs": [
    {
     "name": "stdout",
     "output_type": "stream",
     "text": [
      "10\n"
     ]
    }
   ],
   "source": [
    "#Traversing a list\n",
    "#What is the output\n",
    "numbers = [2, 3, 5]\n",
    "sum = 0\n",
    "for num in numbers:\n",
    "    sum += num\n",
    "print(sum)"
   ]
  },
  {
   "cell_type": "code",
   "execution_count": 84,
   "metadata": {},
   "outputs": [
    {
     "name": "stdout",
     "output_type": "stream",
     "text": [
      "[4, 5, 7]\n"
     ]
    }
   ],
   "source": [
    "numbers = [2, 3, 5]\n",
    "getsum = [ i+2 for i in numbers ]\n",
    "print(getsum)"
   ]
  },
  {
   "cell_type": "code",
   "execution_count": 85,
   "metadata": {},
   "outputs": [
    {
     "name": "stdout",
     "output_type": "stream",
     "text": [
      "[4, 5]\n"
     ]
    }
   ],
   "source": [
    "numbers = [2, 3, 5]\n",
    "getnum = [ i+2 for i in numbers if i<5]\n",
    "print(getnum)"
   ]
  },
  {
   "cell_type": "markdown",
   "metadata": {},
   "source": [
    "**Break statement**\n",
    "\n",
    "The break statement is used to break out of a loop statement i.e. stop the execution of a looping statement, even if the loop condition has not become False or the sequence of items has not been completely iterated over.\n",
    "\n",
    "An important note is that if you break out of a for or while loop, any corresponding loop else block is not executed."
   ]
  },
  {
   "cell_type": "code",
   "execution_count": 86,
   "metadata": {},
   "outputs": [
    {
     "name": "stdout",
     "output_type": "stream",
     "text": [
      "1\n",
      "2\n",
      "3\n",
      "4\n",
      "Done\n"
     ]
    }
   ],
   "source": [
    "for i in range(1,10):\n",
    "       if i == 5:\n",
    "           break\n",
    "       print(i)\n",
    "print('Done')"
   ]
  },
  {
   "cell_type": "markdown",
   "metadata": {},
   "source": [
    "#Exercise time\n"
   ]
  },
  {
   "cell_type": "markdown",
   "metadata": {},
   "source": [
    "**Exercise**\n"
   ]
  },
  {
   "cell_type": "markdown",
   "metadata": {},
   "source": [
    "**Exercise**\n",
    "\n",
    "In cryptography, a Caesar cipher is a very simple encryption techniques in which each letter in the plain text is replaced by a letter some fixed number of positions down the alphabet. For example, with a shift of 3, A would be replaced by D, B would become E, and so on. The method is named after Julius Caesar, who used it to communicate with his generals. ROT-13 (\"rotate by 13 places\") is a widely used example of a Caesar cipher where the shift is 13. In Python, the key for ROT-13 may be represented by means of the following dictionary:\n",
    "\n",
    "key = {'a':'n', 'b':'o', 'c':'p', 'd':'q', 'e':'r', 'f':'s', 'g':'t', 'h':'u', \n",
    "       'i':'v', 'j':'w', 'k':'x', 'l':'y', 'm':'z', 'n':'a', 'o':'b', 'p':'c', \n",
    "       'q':'d', 'r':'e', 's':'f', 't':'g', 'u':'h', 'v':'i', 'w':'j', 'x':'k',\n",
    "       'y':'l', 'z':'m', 'A':'N', 'B':'O', 'C':'P', 'D':'Q', 'E':'R', 'F':'S', \n",
    "       'G':'T', 'H':'U', 'I':'V', 'J':'W', 'K':'X', 'L':'Y', 'M':'Z', 'N':'A', \n",
    "       'O':'B', 'P':'C', 'Q':'D', 'R':'E', 'S':'F', 'T':'G', 'U':'H', 'V':'I', \n",
    "       'W':'J', 'X':'K', 'Y':'L', 'Z':'M'}\n",
    "\n",
    "Your task in this exercise is to implement an encoder/decoder of ROT-13. Once you're done, you will be able to read the following secret message:\n",
    "\n",
    "   Pnrfne pvcure zrgubq vf anzrq nsgre Whyvhf Pnrfne!\n",
    "\n",
    "Note that since English has 26 characters, your ROT-13 program will be able to both encode and decode texts written in English.\n"
   ]
  },
  {
   "cell_type": "code",
   "execution_count": 116,
   "metadata": {},
   "outputs": [
    {
     "name": "stdout",
     "output_type": "stream",
     "text": [
      "50\n",
      "Caesar cipher method is named after Julius Caesar!\n"
     ]
    }
   ],
   "source": [
    "key = {'a':'n', 'b':'o', 'c':'p', 'd':'q', 'e':'r', 'f':'s', 'g':'t', 'h':'u', 'i':'v', 'j':'w', 'k':'x', 'l':'y', 'm':'z', 'n':'a', 'o':'b', 'p':'c', 'q':'d', 'r':'e', 's':'f', 't':'g', 'u':'h', 'v':'i', 'w':'j', 'x':'k', 'y':'l', 'z':'m', 'A':'N', 'B':'O', 'C':'P', 'D':'Q', 'E':'R', 'F':'S', 'G':'T', 'H':'U', 'I':'V', 'J':'W', 'K':'X', 'L':'Y', 'M':'Z', 'N':'A', 'O':'B', 'P':'C', 'Q':'D', 'R':'E', 'S':'F', 'T':'G', 'U':'H', 'V':'I', 'W':'J', 'X':'K', 'Y':'L', 'Z':'M'}\n",
    "mystring = \"Pnrfne pvcure zrgubq vf anzrq nsgre Whyvhf Pnrfne!\"\n",
    "mystringlen = len(mystring)\n",
    "newstring=\"\"\n",
    "print(mystringlen)\n",
    "for i in mystring:\n",
    "    if i in key.values():\n",
    "        newstring+=key[i]\n",
    "    else:\n",
    "        newstring+=i\n",
    "\n",
    "print(newstring)\n",
    "    "
   ]
  },
  {
   "cell_type": "markdown",
   "metadata": {},
   "source": [
    "**Closing and Opening Files**\n",
    "\n",
    "+ Python, along with associated packages, supports a number of formats for file reading and writing. \n",
    "+ The file types supported are txt, csv, xls, xlsx, doc, docx, dat, output, sql (and some specialized formats such as R, .dta, sas7bdat)\n",
    "+ Here, we will cover some of the options and will look at the rest in session on pandas.\n",
    "+ In order to open a file, use open() method specifying file name and mode of opening (read, write, append, etc)\n",
    "+ Open returns a file handle \n",
    "+ handle = open(filename, mode)\n",
    "+ Once work is done, it is always better to close the file otherwise other programs might not be able to access the file.\n",
    "+ File closing is done using close() method\n"
   ]
  },
  {
   "cell_type": "code",
   "execution_count": 118,
   "metadata": {},
   "outputs": [
    {
     "name": "stdout",
     "output_type": "stream",
     "text": [
      "Why Apple Is In My Retirement Portfolio\n",
      "\n",
      "\n",
      "\n",
      "Summary\n",
      "\n",
      "\n",
      "\n",
      "Apple is a rare bird of a stock. It offers shareholders enormous growth, and could potentially become the next great dividend stock.\n",
      "\n",
      "The company is the largest public company in the world, surpassing Exxon Mobil.\n",
      "\n",
      "The raw fundamentals of this company are virtually incomparable.\n",
      "\n",
      "Over the last several years, I have been all over the board when it comes to Apple (AAPL). During its parabolic rise in price about 2 years ago, I wrote several articles urging investors to take some chips off the table, and then when it hit some low points, I suggested it might be time to buy the stock, which I did, but not just for my growth portfolio. The stock seemed to have become a value stock with a rather strong dividend, so I placed it in 3 of my portfolios, and have held it ever since in 2 of the 3 portfolios I currently manage.\n",
      "\n",
      "\n",
      "\n",
      "As of several months ago, I added APPL to my newest retirement portfolio, \"Buy The Dips Portfolio\", or BTDP. The stock is now going to be held for the very long term in at least 3 out of 4 of my various portfolios, mainly for dividend income investors, but with an eye towards another strong round of growth.\n",
      "\n",
      "\n",
      "\n",
      "Apple Is More Than A Reborn Growth Stock, It Is Also A Future Dividend Champion\n",
      "\n",
      "\n",
      "\n",
      "The recent shareholder-friendly moves that Apple has made should ignite even more intense interest in the stock for both dividend-seeking investors, as well as for growth investors.\n",
      "\n",
      "\n",
      "\n"
     ]
    }
   ],
   "source": [
    "f = open('C://01 Projects//07 Personal_Projects//00 ISB Course//Python//Session 1//file1.txt', 'r')\n",
    "for line in f:   \n",
    "    print(line)                       \n",
    "f.close()"
   ]
  },
  {
   "cell_type": "code",
   "execution_count": 121,
   "metadata": {},
   "outputs": [
    {
     "name": "stdout",
     "output_type": "stream",
     "text": [
      "File Name is  C://01 Projects//07 Personal_Projects//00 ISB Course//Python//Session 1//crsp.output\n",
      "Content is  00195710 880211 -0.012605 0.003871\n",
      "00195710 880212 -0.008511 0.007406\n",
      "00195710 880216 0.008584 0.001411\n",
      "00195710 880217 -0.004255 0.002414\n",
      "00195710 880218 0 0.002845\n",
      "00195710 880219 0.008547 0.004753\n",
      "00195710 880222 0.012712 0.006375\n",
      "00195710 880223 -0.008368 0.001864\n",
      "00195710 880224 -0.008439 0.004237\n",
      "00195710 880225 -0.004255 0.005164\n",
      "00195710 880226 -0.008547 0.001747\n",
      "00195710 880229 0.012931 0.011278\n",
      "00195710 880301 -0.008511 0.001305\n",
      "00195710 880302 0.008584 0.005652\n",
      "00195710 880303 -0.017021 0.002895\n",
      "00195710 880304 0.004329 0.004586\n",
      "00195710 880307 -0.017241 0.00374\n",
      "00195710 880308 -0.008772 0.006258\n",
      "00195710 880309 0.00885 0.008291\n",
      "00195710 880310 -0.008772 -0.004363\n",
      "00195710 880311 -0.00885 0.000796\n",
      "00195710 880314 0.013393 0.002721\n",
      "00195710 880315 0.008811 0.001341\n",
      "00195710 880316 0.004367 0.004319\n",
      "00195710 880317 0.008696 0.005612\n",
      "00195710 880318 -0.008621 0.003249\n",
      "00195710 880321 -0.004348 -0.004265\n",
      "00195710 880322 -0.008734 0.00276\n",
      "00195710 880323 -0.004405 0.003259\n",
      "00195710 880324 -0.017699 -0.006748\n",
      "00195710 880325 -0.011712 -0.006075\n",
      "00195710 880328 -0.013825 -0.006236\n",
      "00195710 880329 0.004673 0.006625\n",
      "00195710 880330 -0.013953 -0.001708\n",
      "00195710 880331 0.018868 0.007634\n",
      "00195710 880404 -0.013889 -0.005177\n",
      "00195710 880405 0.00939 0.002342\n",
      "00195710 880406 0.046512 0.007862\n",
      "00195710 880407 -0.004444 0.003649\n",
      "00195710 880408 0.004464 0.008284\n",
      "00195710 880411 -0.008889 0.000455\n",
      "00195710 880412 0.008969 0.004093\n",
      "00195710 880413 -0.004444 0.000273\n",
      "00195710 880414 -0.049107 -0.017634\n",
      "00195710 880415 0 -0.001734\n",
      "00195710 880418 -0.00939 0.002671\n",
      "00195710 880419 0.004739 0.004033\n",
      "00195710 880420 0 -0.004894\n",
      "00195710 880421 0.004717 -0.000031\n",
      "00195710 880422 0.018779 0.003857\n",
      "00195710 880425 0.004608 0.002482\n",
      "00195710 880426 -0.018349 0.004963\n",
      "00195710 880427 -0.004673 0.002056\n",
      "00195710 880428 -0.00939 0.001157\n",
      "00195710 880429 0.004739 0.003796\n",
      "00195710 880502 0 -0.001114\n",
      "00195710 880503 0.018868 0.002655\n",
      "00195710 880504 -0.023148 -0.000176\n",
      "00195710 880505 -0.009479 -0.001624\n",
      "00195710 880506 -0.004785 0.000376\n",
      "00195710 880509 0.014423 -0.005489\n",
      "00195710 880510 0.028436 0.000986\n",
      "00195710 880511 -0.009217 -0.012381\n",
      "00195710 880512 0.018605 0.002235\n",
      "00195710 880513 -0.004566 0.005115\n",
      "00195710 880516 0 0.000834\n",
      "00195710 880517 -0.027523 -0.001624\n",
      "00195710 880518 -0.018868 -0.010956\n",
      "00195710 880519 0.024038 -0.001865\n",
      "00195710 880520 0.004695 0.003239\n",
      "00195710 880523 -0.014019 -0.003542\n",
      "00195710 880524 0.004739 0.0017\n",
      "00195710 880525 -0.014151 0.001598\n",
      "00282410 880225 -0.00495 0.005164\n",
      "00282410 880226 -0.007463 0.001747\n",
      "00282410 880229 0.042607 0.011278\n",
      "00282410 880301 -0.004808 0.001305\n",
      "00282410 880302 -0.002415 0.005652\n",
      "00282410 880303 0.002421 0.002895\n",
      "00282410 880304 -0.002415 0.004586\n",
      "00282410 880307 -0.002421 0.00374\n",
      "00282410 880308 -0.024272 0.006258\n",
      "00282410 880309 0 0.008291\n",
      "00282410 880310 -0.0199 -0.004363\n",
      "00282410 880311 -0.025381 0.000796\n",
      "00282410 880314 0.010417 0.002721\n",
      "00282410 880315 0.002577 0.001341\n",
      "00282410 880316 -0.002571 0.004319\n",
      "00282410 880317 0.018041 0.005612\n",
      "00282410 880318 0.017722 0.003249\n",
      "00282410 880321 -0.00995 -0.004265\n",
      "00282410 880322 -0.01005 0.00276\n",
      "00282410 880323 -0.017766 0.003259\n",
      "00282410 880324 -0.010336 -0.006748\n",
      "00282410 880325 -0.031332 -0.006075\n",
      "00282410 880328 0.002695 -0.006236\n",
      "00282410 880329 0.010753 0.006625\n",
      "00282410 880330 -0.00266 -0.001708\n",
      "00282410 880331 0 0.007634\n",
      "00282410 880404 -0.013333 -0.005177\n",
      "00282410 880405 0.013514 0.002342\n",
      "00282410 880406 0.016 0.007862\n",
      "00282410 880407 0.026247 0.003649\n",
      "00282410 880408 0.033248 0.008284\n",
      "00282410 880411 -0.001485 0.000455\n",
      "00282410 880412 0.004988 0.004093\n",
      "00282410 880413 -0.002481 0.000273\n",
      "00282410 880414 -0.039801 -0.017634\n",
      "00282410 880415 -0.010363 -0.001734\n",
      "00282410 880418 -0.005236 0.002671\n",
      "00282410 880419 -0.021053 0.004033\n",
      "00282410 880420 -0.013441 -0.004894\n",
      "00282410 880421 -0.013624 -0.000031\n",
      "00282410 880422 0.022099 0.003857\n",
      "00282410 880425 0.024324 0.002482\n",
      "00282410 880426 0.01847 0.004963\n",
      "00282410 880427 -0.023316 0.002056\n",
      "00282410 880428 -0.013263 0.001157\n",
      "00282410 880429 -0.018817 0.003796\n",
      "00282410 880502 0.013699 -0.001114\n",
      "00282410 880503 -0.005405 0.002655\n",
      "00282410 880504 -0.008152 -0.000176\n",
      "00282410 880505 -0.010959 -0.001624\n",
      "00282410 880506 -0.019391 0.000376\n",
      "00282410 880509 0.008475 -0.005489\n",
      "00282410 880510 -0.014006 0.000986\n",
      "00282410 880511 -0.019886 -0.012381\n",
      "00282410 880512 -0.002899 0.002235\n",
      "00282410 880513 0.017442 0.005115\n",
      "00282410 880516 0.028571 0.000834\n",
      "00282410 880517 -0.011111 -0.001624\n",
      "00282410 880518 -0.019663 -0.010956\n",
      "00282410 880519 -0.002865 -0.001865\n",
      "00282410 880520 0.005747 0.003239\n",
      "00282410 880523 -0.014286 -0.003542\n",
      "00282410 880524 0.014493 0.0017\n",
      "00282410 880525 0.008571 0.001598\n",
      "00282410 880526 0.031161 0.003151\n",
      "00282410 880527 -0.008242 -0.000359\n",
      "00282410 880531 0.027701 0.006501\n",
      "00790310 880225 -0.020408 0.005164\n",
      "00790310 880226 -0.010417 0.001747\n",
      "00790310 880229 0.010526 0.011278\n",
      "00790310 880301 -0.020833 0.001305\n",
      "00790310 880302 0.053191 0.005652\n",
      "00790310 880303 0 0.002895\n",
      "00790310 880304 -0.020202 0.004586\n",
      "00790310 880307 0.041237 0.00374\n",
      "00790310 880308 0.039604 0.006258\n",
      "00790310 880309 0.009524 0.008291\n",
      "00790310 880310 -0.04717 -0.004363\n",
      "00790310 880311 -0.009901 0.000796\n",
      "00790310 880314 0 0.002721\n",
      "00790310 880315 0.01 0.001341\n",
      "00790310 880316 -0.029703 0.004319\n",
      "00790310 880317 0.010204 0.005612\n",
      "00790310 880318 0.010101 0.003249\n",
      "00790310 880321 -0.03 -0.004265\n",
      "00790310 880322 0.030928 0.00276\n",
      "00790310 880323 -0.02 0.003259\n",
      "00790310 880324 -0.030612 -0.006748\n",
      "00790310 880325 -0.052632 -0.006075\n",
      "00790310 880328 -0.011111 -0.006236\n",
      "00790310 880329 0.022472 0.006625\n",
      "00790310 880330 -0.032967 -0.001708\n",
      "00790310 880331 0 0.007634\n",
      "00790310 880404 0.011364 -0.005177\n",
      "00790310 880405 0.022472 0.002342\n",
      "00790310 880406 0.054945 0.007862\n",
      "00790310 880407 0.041667 0.003649\n",
      "00790310 880408 0.07 0.008284\n",
      "00790310 880411 0.028037 0.000455\n",
      "00790310 880412 -0.009091 0.004093\n",
      "00790310 880413 -0.018349 0.000273\n",
      "00790310 880414 -0.056075 -0.017634\n",
      "00790310 880415 -0.009901 -0.001734\n",
      "00790310 880418 0.03 0.002671\n",
      "00790310 880419 -0.019417 0.004033\n",
      "00790310 880420 -0.009901 -0.004894\n",
      "00790310 880421 0 -0.000031\n",
      "00790310 880422 0.05 0.003857\n",
      "00790310 880425 0.028571 0.002482\n",
      "00790310 880426 0.018519 0.004963\n",
      "00790310 880427 0.036364 0.002056\n",
      "00790310 880428 0.017544 0.001157\n",
      "00790310 880429 -0.008621 0.003796\n",
      "00790310 880502 0 -0.001114\n",
      "00790310 880503 -0.008696 0.002655\n",
      "00790310 880504 0.017544 -0.000176\n",
      "00790310 880505 0 -0.001624\n",
      "00790310 880506 -0.017241 0.000376\n",
      "00790310 880509 -0.04386 -0.005489\n",
      "00790310 880510 0.018349 0.000986\n",
      "00790310 880511 0 -0.012381\n",
      "00790310 880512 0.045045 0.002235\n",
      "00790310 880513 0.034483 0.005115\n",
      "00790310 880516 0 0.000834\n",
      "00790310 880517 -0.016667 -0.001624\n",
      "00790310 880518 -0.033898 -0.010956\n",
      "00790310 880519 0.04386 -0.001865\n",
      "00790310 880520 -0.016807 0.003239\n",
      "00790310 880523 -0.034188 -0.003542\n",
      "00790310 880524 0.026549 0.0017\n",
      "00790310 880525 -0.008621 0.001598\n",
      "00790310 880526 -0.008696 0.003151\n",
      "00790310 880527 0 -0.000359\n",
      "00790310 880531 0.052632 0.006501\n",
      "00811710 880225 -0.036458 0.005164\n",
      "00811710 880226 0.010811 0.001747\n",
      "00811710 880229 0.018717 0.011278\n",
      "00811710 880301 0 0.001305\n",
      "00811710 880302 0.002625 0.005652\n",
      "00811710 880303 0.005236 0.002895\n",
      "00811710 880304 -0.007813 0.004586\n",
      "00811710 880307 0.002625 0.00374\n",
      "00811710 880308 0 0.006258\n",
      "00811710 880309 -0.010471 0.008291\n",
      "00811710 880310 -0.010582 -0.004363\n",
      "00811710 880311 -0.002674 0.000796\n",
      "00811710 880314 -0.008043 0.002721\n",
      "00811710 880315 0 0.001341\n",
      "00811710 880316 0 0.004319\n",
      "00811710 880317 -0.010811 0.005612\n",
      "00811710 880318 -0.008197 0.003249\n",
      "00811710 880321 -0.002755 -0.004265\n",
      "00811710 880322 -0.005525 0.00276\n",
      "00811710 880323 -0.005556 0.003259\n",
      "00811710 880324 -0.013966 -0.006748\n",
      "00811710 880325 -0.002833 -0.006075\n",
      "00811710 880328 -0.017045 -0.006236\n",
      "00811710 880329 0.00578 0.006625\n",
      "00811710 880330 -0.014368 -0.001708\n",
      "00811710 880331 0.023324 0.007634\n",
      "00811710 880404 -0.008547 -0.005177\n",
      "00811710 880405 0.031609 0.002342\n",
      "00811710 880406 -0.011142 0.007862\n",
      "00811710 880407 -0.016901 0.003649\n",
      "00811710 880408 0.014327 0.008284\n",
      "00811710 880411 0.00565 0.000455\n",
      "00811710 880412 0.016854 0.004093\n",
      "00811710 880413 0.002762 0.000273\n",
      "00811710 880414 -0.044077 -0.017634\n",
      "00811710 880415 -0.020173 -0.001734\n",
      "00811710 880418 0.002941 0.002671\n",
      "00811710 880419 -0.005865 0.004033\n",
      "00811710 880420 0.00295 -0.004894\n",
      "00811710 880421 0.002941 -0.000031\n",
      "00811710 880422 0.002933 0.003857\n",
      "00811710 880425 0.013216 0.002482\n",
      "00811710 880426 0.017595 0.004963\n",
      "00811710 880427 -0.014409 0.002056\n",
      "00811710 880428 0.008772 0.001157\n",
      "00811710 880429 -0.026087 0.003796\n",
      "00811710 880502 -0.008929 -0.001114\n",
      "00811710 880503 -0.006006 0.002655\n",
      "00811710 880504 0.003021 -0.000176\n",
      "00811710 880505 -0.003012 -0.001624\n",
      "00811710 880506 -0.018127 0.000376\n",
      "00811710 880509 -0.003077 -0.005489\n",
      "00811710 880510 -0.006173 0.000986\n",
      "00811710 880511 -0.012422 -0.012381\n",
      "00811710 880512 0.009434 0.002235\n",
      "00811710 880513 0.012461 0.005115\n",
      "00811710 880516 0.003077 0.000834\n",
      "00811710 880517 -0.018405 -0.001624\n",
      "00811710 880518 0.003125 -0.010956\n",
      "00811710 880519 0.006231 -0.001865\n",
      "00811710 880520 0.012384 0.003239\n",
      "00811710 880523 -0.003058 -0.003542\n",
      "00811710 880524 0.02454 0.0017\n",
      "00811710 880525 0.008982 0.001598\n",
      "00811710 880526 0 0.003151\n",
      "00811710 880527 0.002967 -0.000359\n",
      "00811710 880531 0.038462 0.006501\n",
      "\n"
     ]
    }
   ],
   "source": [
    "capmdata = open('C://01 Projects//07 Personal_Projects//00 ISB Course//Python//Session 1//capm_dem.dat','r')\n",
    "crspdata = open('C://01 Projects//07 Personal_Projects//00 ISB Course//Python//Session 1//crsp.output','r')\n",
    "print(\"File Name is \", crspdata.name)\n",
    "print(\"Content is \", capmdata.read())\n",
    "copycapmdata = open('C://01 Projects//07 Personal_Projects//00 ISB Course//Python//Session 1//capm_dem_copy.txt',\"w\")\n",
    "capmdata.seek(0,0)\n",
    "copycapmdata.write(capmdata.read())\n",
    "crspdata.close()\n",
    "copycapmdata.close()\n",
    "capmdata.close()"
   ]
  },
  {
   "cell_type": "markdown",
   "metadata": {},
   "source": [
    "**Functions**\n",
    "\n",
    "+ Functions are reusable piece of software.\n",
    "+ Block of statements that accepts some arguments, perform some functionality, and provide the output.\n",
    "+ Defined using def keyword\n",
    "+ Similar to functions in R.\n",
    "+ For example, implement code to perform two way clustering once and can be used again in the same program. \n",
    "+ We will look at functions for a number of features (Fama Mac Beth regression, two way clustering, industry code classification) in subsequent sessions. \n",
    "+ A function can take arguments.\n",
    "+ Arguments are specified within parentheses in function definition separated by commas.\n",
    "+ It is also possible to assign default values to parameters in order to make the program flexible and not behave in an unexpected manner.\n",
    "+ One of the most powerful feature of functions is that it allows you to pass any number of arguments and you do not have to worry about specifying the number when writing the function. This feature becomes extremely important when dealing with lists or input data where you do not know number of data observations before hand.\n",
    "+ Scope of variables defined inside a function is local i.e. they cannot be used outside of a function.\n"
   ]
  },
  {
   "cell_type": "code",
   "execution_count": 122,
   "metadata": {},
   "outputs": [
    {
     "name": "stdout",
     "output_type": "stream",
     "text": [
      "Hello World!\n"
     ]
    }
   ],
   "source": [
    "def sayHello():\n",
    "    print('Hello World!') # block belonging to the function\n",
    "# End of function #\n",
    "\n",
    "sayHello()"
   ]
  },
  {
   "cell_type": "code",
   "execution_count": 149,
   "metadata": {},
   "outputs": [
    {
     "name": "stdout",
     "output_type": "stream",
     "text": [
      "4 is maximum\n",
      "a1 is maximum\n"
     ]
    }
   ],
   "source": [
    "def printMax(a, b):\n",
    "   if a > b:\n",
    "       print(a, 'is maximum')\n",
    "   elif a == b:\n",
    "       print(a, 'is equal to', b)\n",
    "   else:\n",
    "       print(b, 'is maximum')\n",
    "\n",
    "printMax(3, 4) \n",
    "printMax('a1', '2a')"
   ]
  },
  {
   "cell_type": "code",
   "execution_count": 124,
   "metadata": {},
   "outputs": [
    {
     "name": "stdout",
     "output_type": "stream",
     "text": [
      "Hello\n",
      "WorldWorldWorldWorldWorld\n"
     ]
    }
   ],
   "source": [
    "def say(message, times = 1):\n",
    "   print(message * times)\n",
    "\n",
    "say('Hello')\n",
    "say('World', 5)"
   ]
  },
  {
   "cell_type": "code",
   "execution_count": 125,
   "metadata": {},
   "outputs": [
    {
     "name": "stdout",
     "output_type": "stream",
     "text": [
      "a is 3 and b is 7 and c is 10\n",
      "a is 25 and b is 5 and c is 24\n",
      "a is 100 and b is 5 and c is 50\n"
     ]
    }
   ],
   "source": [
    "def func(a, b=5, c=10):\n",
    "   print('a is', a, 'and b is', b, 'and c is', c)\n",
    "func(3, 7)\n",
    "func(25, c=24)\n",
    "func(c=50, a=100)"
   ]
  },
  {
   "cell_type": "code",
   "execution_count": 126,
   "metadata": {},
   "outputs": [
    {
     "name": "stdout",
     "output_type": "stream",
     "text": [
      "x is 50\n",
      "Changed local x to 2\n",
      "x is still 50\n"
     ]
    }
   ],
   "source": [
    "x = 50\n",
    "def func(x):\n",
    "   print('x is', x)\n",
    "   x = 2\n",
    "   print('Changed local x to', x)\n",
    "func(x)\n",
    "print('x is still', x)"
   ]
  },
  {
   "cell_type": "code",
   "execution_count": 133,
   "metadata": {},
   "outputs": [
    {
     "name": "stdout",
     "output_type": "stream",
     "text": [
      "10\n",
      "11\n",
      "13\n",
      "16\n",
      "66\n",
      "166\n",
      "166\n"
     ]
    }
   ],
   "source": [
    "def total(initial=5, *numbers, **keywords):\n",
    "   count = initial\n",
    "   print(count) \n",
    "   for number in numbers:\n",
    "       count += number\n",
    "       print(count)\n",
    "   for key in keywords:\n",
    "       count += keywords[key]\n",
    "       print(count)\n",
    "   return count\n",
    "\n",
    "print(total(10, 1, 2, 3, vegetables=50, fruits=100))"
   ]
  },
  {
   "cell_type": "markdown",
   "metadata": {},
   "source": [
    "**Modules**\n",
    "\n",
    "+ Functions can be used in the same program. \n",
    "+ If you want to use function (s) in other programs, make use of modules.\n",
    "+ Modules can be imported in other programs and functions contained in those modules can be used.\n",
    "+ Simplest way to create a module is to write a .py file with functions defined in that file.\n",
    "+ Other way is to import using byte-compiled .pyc files. "
   ]
  },
  {
   "cell_type": "code",
   "execution_count": 135,
   "metadata": {},
   "outputs": [
    {
     "name": "stdout",
     "output_type": "stream",
     "text": [
      "C:\\Users\\rajeshrg\n",
      "25.0\n",
      "15511210043330985984000000\n"
     ]
    }
   ],
   "source": [
    "import os\n",
    "print(os.getcwd())\n",
    "import math\n",
    "x = -25\n",
    "print(math.fabs(x))\n",
    "print(math.factorial(abs(x)))"
   ]
  },
  {
   "cell_type": "code",
   "execution_count": 143,
   "metadata": {},
   "outputs": [
    {
     "name": "stdout",
     "output_type": "stream",
     "text": [
      "Hi, this is a function of mymodule.\n",
      "None\n",
      "Enter a non negative number6\n",
      "720\n",
      "720\n"
     ]
    }
   ],
   "source": [
    "from mymodule import *\n",
    "print(sayhi())\n",
    "\n",
    "\n",
    "numb = input(\"Enter a non negative number\")\n",
    "num_factorial = factorial(int(numb))\n",
    "print(num_factorial)\n"
   ]
  },
  {
   "cell_type": "markdown",
   "metadata": {},
   "source": [
    "**Writing first program**\n",
    "\n",
    "+ Source files .py extension, and can be run from command prompt by using python filename.py (optional arguments) command. \n",
    "+ Examine name.py. \n",
    "+ First line imports modules\n",
    "+ Next line defines a main() function. We can specify command line arguments. Command line args are in sys.argv[1], sys.argv[2]\n",
    "+ sys.argv[0] is the script name itself and can be ignored\n",
    "+ name = 'main' starts the program. \n",
    "+ When a Python file is run directly, the special variable \"__name__\" is set to \"__main__\". Therefore, it's common to have the boilerplate if __name__ ==... shown above to call a main() function when the module is run directly, but not when the module is imported by some other module."
   ]
  },
  {
   "cell_type": "code",
   "execution_count": 152,
   "metadata": {},
   "outputs": [
    {
     "name": "stdout",
     "output_type": "stream",
     "text": [
      "Hello there\n",
      "Hello\n",
      "WorldWorldWorldWorldWorld\n",
      "a is 3 and b is 7 and c is 10\n",
      "a is 25 and b is 5 and c is 24\n",
      "a is 100 and b is 5 and c is 50\n"
     ]
    }
   ],
   "source": [
    "#Run name.py\n",
    "%run \"C://01 Projects//07 Personal_Projects//00 ISB Course//Python//Session 1//name2.py\""
   ]
  },
  {
   "cell_type": "markdown",
   "metadata": {},
   "source": [
    "** Exception Handling**\n",
    "\n",
    "**Exceptions**\n",
    "\n",
    "+ An exception is an event that interrupts the ordinary sequential processing of a program.\n",
    "+ For example, what if you are going to read a file and the file does not exist? Or what if you accidentally deleted it when the program was running? Similarly, what if your program had some invalid statements? Such situations are handled using exceptions.\n",
    "\n",
    "**Handling Exceptions**\n",
    "\n",
    "+ We can handle exceptions using the try..except statement. \n",
    "+ We basically put our usual statements within the try-block and put all our error handlers in the except-block."
   ]
  },
  {
   "cell_type": "code",
   "execution_count": 162,
   "metadata": {},
   "outputs": [
    {
     "name": "stdout",
     "output_type": "stream",
     "text": [
      "Average =  25.0\n",
      "ZeroDivisionError: float division by zero\n",
      "None\n",
      "TypeError: unsupported operand type(s) for +: 'int' and 'str'\n",
      "None\n"
     ]
    }
   ],
   "source": [
    "def avg( numList ):\n",
    "    \"\"\"Raises TypeError or ZeroDivisionError exceptions.\"\"\"\n",
    "    sum= 0\n",
    "    for v in numList:\n",
    "        sum = sum + v\n",
    "    return float(sum)/len(numList)\n",
    "\n",
    "def avgReport(numList):\n",
    "     try:\n",
    "         m= avg(numList)\n",
    "         print(\"Average = \", m)\n",
    "     except TypeError as ex:\n",
    "         print(\"TypeError:\", ex)\n",
    "     except ZeroDivisionError as ex:\n",
    "         print(\"ZeroDivisionError:\", ex)\n",
    "\n",
    "                    \n",
    "list1 = [10,20,30,40]\n",
    "list2 = []\n",
    "list3 = [10,20,30,'abc']\n",
    "\n",
    "avgReport(list1)\n",
    "print(avgReport(list2))\n",
    "print(avgReport(list3))"
   ]
  },
  {
   "cell_type": "markdown",
   "metadata": {},
   "source": [
    "**Try..Finally**\n",
    "\n",
    "+ Suppose you are reading a file in your program. How do you ensure that the file object is closed properly whether or not an exception was raised? This can be done using the finally block.\n",
    "+ This final step will be performed before the try block is finished, either normally or by any exception.\n",
    "+ The finally clause is always executed. \n",
    "+ This includes all three possible cases: if the try block finishes with no exceptions; if an exception is raised and handled; and if an exception is raised but not handled. \n",
    "+ This last case means that every nested try statement with a finally clause will have that finally clause executed.\n",
    "+ Use a finally clause to close files, release locks, close database connections, write final log messages, and other kinds of final operations. \n",
    "+ In the following example, we use the finally clause to write a final log message.\n"
   ]
  },
  {
   "cell_type": "code",
   "execution_count": 165,
   "metadata": {},
   "outputs": [
    {
     "name": "stdout",
     "output_type": "stream",
     "text": [
      "Start avgReport\n",
      "ZeroDivisionError:  float division by zero\n",
      "Finish avgReport\n"
     ]
    }
   ],
   "source": [
    "def avgReport( numList ):\n",
    "    try:\n",
    "        print(\"Start avgReport\")\n",
    "        m= avg(numList)\n",
    "        print(\"Average = \", m)\n",
    "    except TypeError as ex:\n",
    "        print(\"TypeError: \", ex)\n",
    "    except ZeroDivisionError as ex:\n",
    "        print(\"ZeroDivisionError: \", ex)\n",
    "    finally:\n",
    "         print(\"Finish avgReport\")\n",
    "\n",
    "list1 = [10,20,30,40]\n",
    "list2 = []\n",
    "list3 = [10,20,30,'abc']\n",
    "\n",
    "avgReport(list2)\n"
   ]
  },
  {
   "cell_type": "markdown",
   "metadata": {},
   "source": [
    "**Some common built-in exceptions**\n",
    "\n",
    "exception KeyboardInterrupt\n",
    " This is raised when a user hits ctrl-C to send an interrupt signal to the Python interpreter. \n",
    "\n",
    "exception AttributeError\n",
    " Attribute not found in an object.\n",
    "\n",
    "exception EOFError\n",
    " Read beyond end of file.\n",
    "\n",
    "exception FloatingPointError\n",
    " Floating point operation failed.\n",
    "\n",
    "exception IOError\n",
    " I/O operation failed.\n",
    "\n",
    "exception IndexError\n",
    " Sequence index out of range.\n",
    "\n",
    "exception KeyError\n",
    " Mapping key not found.\n",
    "\n",
    "exception TypeError\n",
    " Inappropriate argument type.\n",
    "\n",
    "exception ValueError\n",
    " Inappropriate argument value (of correct type).\n",
    "\n",
    "exception ZeroDivisionError\n",
    " Second argument to a division or modulo operation was zero.\n",
    "\n",
    "exception MemoryError\n",
    " Out of memory.\n",
    "\n",
    "exception RuntimeError\n",
    " Unspecified run-time error.\n",
    "\n",
    "exception SystemError\n",
    " Internal error in the Python interpreter\n",
    "\n",
    "exception ImportError\n",
    " Import can’t find module, or can’t find name in module.\n",
    "\n",
    "exception IndentationError\n",
    " Improper indentation.\n",
    "\n",
    "exception NameError\n",
    " Name not found globally.\n",
    "\n",
    "exception SyntaxError\n",
    " Invalid syntax.\n",
    "\n",
    "exception UnboundLocalError\n",
    " Local name referenced but not bound to a value.\n"
   ]
  },
  {
   "cell_type": "markdown",
   "metadata": {},
   "source": [
    "**Classes**\n",
    "\n",
    "Python is an object oriented programming language. Almost everything in Python is an object, with its properties and methods. A Class is like an object constructor, or a \"blueprint\" for creating objects.\n"
   ]
  },
  {
   "cell_type": "code",
   "execution_count": 166,
   "metadata": {},
   "outputs": [
    {
     "name": "stdout",
     "output_type": "stream",
     "text": [
      "5\n"
     ]
    }
   ],
   "source": [
    "class MyClass:\n",
    "  x = 5\n",
    "\n",
    "p1 = MyClass()\n",
    "print(p1.x)"
   ]
  },
  {
   "cell_type": "markdown",
   "metadata": {},
   "source": [
    "Example above is very simplistic in nature, and not really useful in real life applications.\n",
    "\n",
    "To understand the meaning of classes we have to understand the built-in init() function.\n",
    "\n",
    "All classes have a function called init(), which is always executed when the class is being initiated.\n",
    "\n",
    "Use the init() function to assign values to object properties, or other operations that are necessary to do when the object is being created."
   ]
  },
  {
   "cell_type": "code",
   "execution_count": 167,
   "metadata": {},
   "outputs": [
    {
     "name": "stdout",
     "output_type": "stream",
     "text": [
      "Peeyush\n",
      "32\n"
     ]
    }
   ],
   "source": [
    "class Person:\n",
    "  def __init__(self, name, age):\n",
    "    self.name = name\n",
    "    self.age = age\n",
    "\n",
    "p1 = Person(\"Peeyush\", 32)\n",
    "\n",
    "print(p1.name)\n",
    "print(p1.age)"
   ]
  },
  {
   "cell_type": "code",
   "execution_count": 169,
   "metadata": {},
   "outputs": [
    {
     "name": "stdout",
     "output_type": "stream",
     "text": [
      "Hello, Peeyush\n",
      "HELLO, PEEYUSH!\n"
     ]
    }
   ],
   "source": [
    "#Objects can also contain methods. Methods in objects are functions that belong to the object.\n",
    "class Greeter:\n",
    "\n",
    "    # Constructor\n",
    "    def __init__(self, name):\n",
    "        self.name = name  # Create an instance variable\n",
    "\n",
    "    # Instance method\n",
    "    def greet(self, loud=False):\n",
    "        if loud:\n",
    "            print('HELLO, %s!' % self.name.upper())\n",
    "        else:\n",
    "            print('Hello, %s' % self.name)\n",
    "\n",
    "g = Greeter('Peeyush')  # Construct an instance of the Greeter class\n",
    "g.greet()            # Call an instance method; prints \"Hello, Fred\"\n",
    "g.greet(loud=True)   # Call an instance method; prints \"HELLO, FRED!\""
   ]
  },
  {
   "cell_type": "code",
   "execution_count": 170,
   "metadata": {},
   "outputs": [
    {
     "name": "stdout",
     "output_type": "stream",
     "text": [
      "Hello my name is Peeyush\n"
     ]
    }
   ],
   "source": [
    "#The self parameter is a reference to the current instance of the class, and is used to access variables that belongs to the class.\n",
    "#It does not have to be named self , you can call it whatever you like, but it has to be the first parameter of any function in the class\n",
    "\n",
    "class Person:\n",
    "  def __init__(mysillyobject, name, age):\n",
    "    mysillyobject.name = name\n",
    "    mysillyobject.age = age\n",
    "\n",
    "  def myfunc(abc):\n",
    "    print(\"Hello my name is \" + abc.name)\n",
    "\n",
    "p1 = Person(\"Peeyush\", 32)\n",
    "p1.myfunc()"
   ]
  },
  {
   "cell_type": "code",
   "execution_count": 171,
   "metadata": {},
   "outputs": [
    {
     "name": "stdout",
     "output_type": "stream",
     "text": [
      "500\n",
      "100\n",
      "2300000\n",
      "1900000\n"
     ]
    }
   ],
   "source": [
    "class Customer(object):\n",
    "    \"\"\"A customer of ABC Bank with a checking account. Customers have the\n",
    "    following properties:\n",
    "\n",
    "    Attributes:\n",
    "        name: A string representing the customer's name.\n",
    "        balance: A float tracking the current balance of the customer's account.\n",
    "    \"\"\"\n",
    "\n",
    "    def __init__(self, name, balance=0.0):\n",
    "        \"\"\"Return a Customer object whose name is *name* and starting\n",
    "        balance is *balance*.\"\"\"\n",
    "        self.name = name\n",
    "        self.balance = balance\n",
    "\n",
    "    def withdraw(self, amount):\n",
    "        \"\"\"Return the balance remaining after withdrawing *amount*\n",
    "        dollars.\"\"\"\n",
    "        if amount > self.balance:\n",
    "            raise RuntimeError('Amount greater than available balance.')\n",
    "        self.balance -= amount\n",
    "        return self.balance\n",
    "\n",
    "    def deposit(self, amount):\n",
    "        \"\"\"Return the balance remaining after depositing *amount*\n",
    "        dollars.\"\"\"\n",
    "        self.balance += amount\n",
    "        return self.balance\n",
    "    \n",
    "p1 = Customer(\"Peeyush\",200)\n",
    "p1.deposit(300)\n",
    "print(p1.balance)\n",
    "p1.withdraw(400)\n",
    "print(p1.balance)\n",
    "\n",
    "\n",
    "p2 = Customer(\"B13\",2000000)\n",
    "p2.deposit(300000)\n",
    "print(p2.balance)\n",
    "p2.withdraw(400000)\n",
    "print(p2.balance)"
   ]
  },
  {
   "cell_type": "markdown",
   "metadata": {},
   "source": [
    "Matplotlib:\n",
    "-->matplotlib is a plotting library for the Python programming language and its numerical mathematics extension NumPy\n",
    "-->pyplot provides a convenient interface to the matplotlib object-oriented plotting library. It is modeled closely after Matlab(TM). Therefore, the majority of plotting commands in pyplot have Matlab(TM) analogs with similar arguments. "
   ]
  },
  {
   "cell_type": "code",
   "execution_count": 172,
   "metadata": {},
   "outputs": [
    {
     "data": {
      "image/png": "[encoded data removed]",
      "text/plain": [
       "<Figure size 432x288 with 1 Axes>"
      ]
     },
     "metadata": {
      "needs_background": "light"
     },
     "output_type": "display_data"
    }
   ],
   "source": [
    "#Line plot\n",
    "%matplotlib inline\n",
    "import matplotlib.pyplot as plt\n",
    "import numpy as np\n",
    "a = np.linspace(0,10,100)\n",
    "b = np.exp(-a)\n",
    "plt.plot(a,b)\n",
    "plt.show()"
   ]
  },
  {
   "cell_type": "code",
   "execution_count": 173,
   "metadata": {},
   "outputs": [
    {
     "data": {
      "image/png": "[encoded data removed]",
      "text/plain": [
       "<Figure size 432x288 with 1 Axes>"
      ]
     },
     "metadata": {
      "needs_background": "light"
     },
     "output_type": "display_data"
    }
   ],
   "source": [
    "#Histogram\n",
    "from numpy.random import normal,rand\n",
    "x = normal(size=200)\n",
    "plt.hist(x,bins=30)\n",
    "plt.show()"
   ]
  },
  {
   "cell_type": "code",
   "execution_count": 174,
   "metadata": {},
   "outputs": [
    {
     "data": {
      "image/png": "[encoded data removed]",
      "text/plain": [
       "<Figure size 432x288 with 1 Axes>"
      ]
     },
     "metadata": {
      "needs_background": "light"
     },
     "output_type": "display_data"
    }
   ],
   "source": [
    "#Scatter Plot\n",
    "import numpy as np\n",
    "import matplotlib.pyplot as plt\n",
    "from numpy.random import normal,rand\n",
    "a = rand(100)\n",
    "b = rand(100)\n",
    "plt.scatter(a,b)\n",
    "plt.show()"
   ]
  },
  {
   "cell_type": "code",
   "execution_count": 175,
   "metadata": {},
   "outputs": [
    {
     "data": {
      "image/png": "[encoded data removed]",
      "text/plain": [
       "<Figure size 432x288 with 1 Axes>"
      ]
     },
     "metadata": {},
     "output_type": "display_data"
    }
   ],
   "source": [
    "#Pie Chart\n",
    "import numpy as np\n",
    "import matplotlib.pyplot as plt\n",
    "n = 20\n",
    "Z = np.random.uniform(0,1,n)\n",
    "plt.pie(Z)\n",
    "plt.show()"
   ]
  },
  {
   "cell_type": "code",
   "execution_count": 176,
   "metadata": {},
   "outputs": [
    {
     "data": {
      "image/png": "[encoded data removed]",
      "text/plain": [
       "<Figure size 432x288 with 1 Axes>"
      ]
     },
     "metadata": {
      "needs_background": "light"
     },
     "output_type": "display_data"
    }
   ],
   "source": [
    "#3D Plot\n",
    "from matplotlib import cm\n",
    "from mpl_toolkits.mplot3d import Axes3D\n",
    "import matplotlib.pyplot as plt\n",
    "import numpy as np\n",
    "fig = plt.figure()\n",
    "ax = fig.gca(projection='3d')\n",
    "X = np.arange(-5, 5, 0.25)\n",
    "Y = np.arange(-5, 5, 0.25)\n",
    "X, Y = np.meshgrid(X, Y)\n",
    "R = np.sqrt(X**2 + Y**2)\n",
    "Z = np.sin(R)\n",
    "surf = ax.plot_surface(X, Y, Z, rstride=1, cstride=1, cmap=cm.coolwarm)\n",
    "plt.show()"
   ]
  },
  {
   "cell_type": "code",
   "execution_count": 177,
   "metadata": {},
   "outputs": [
    {
     "data": {
      "image/png": "[encoded data removed]",
      "text/plain": [
       "<Figure size 640x480 with 1 Axes>"
      ]
     },
     "metadata": {
      "needs_background": "light"
     },
     "output_type": "display_data"
    }
   ],
   "source": [
    "# Imports\n",
    "import numpy as np\n",
    "import matplotlib.pyplot as plt\n",
    "\n",
    "# Create a new figure of size 8x6 points, using 100 dots per inch\n",
    "plt.figure(figsize=(8,6), dpi=80)\n",
    "\n",
    "# Create a new subplot from a grid of 1x1\n",
    "plt.subplot(111)\n",
    "\n",
    "X = np.linspace(-np.pi, np.pi, 256,endpoint=True)\n",
    "C,S = np.cos(X), np.sin(X)\n",
    "\n",
    "# Plot cosine using blue color with a continuous line of width 1 (pixels)\n",
    "plt.plot(X, C, color=\"blue\", linewidth=1.0, linestyle=\"-\")\n",
    "\n",
    "# Plot sine using green color with a continuous line of width 1 (pixels)\n",
    "plt.plot(X, S, color=\"green\", linewidth=1.0, linestyle=\"-\")\n",
    "\n",
    "# Set x limits\n",
    "plt.xlim(-4.0,4.0)\n",
    "\n",
    "# Set x ticks\n",
    "plt.xticks(np.linspace(-4,4,9,endpoint=True))\n",
    "\n",
    "# Set y limits\n",
    "plt.ylim(-1.0,1.0)\n",
    "\n",
    "# Set y ticks\n",
    "plt.yticks(np.linspace(-1,1,5,endpoint=True))\n",
    "\n",
    "# Show result on screen\n",
    "plt.show()\n"
   ]
  },
  {
   "cell_type": "markdown",
   "metadata": {},
   "source": [
    "JSON:\n",
    "\n",
    "The json library can parse JSON from strings or files. The library parses JSON into a Python dictionary or list. It can also convert Python dictionaries or lists into JSON strings.\n",
    "\n",
    "Parsing JSON:\n",
    "Take the following string containing JSON data:\n"
   ]
  },
  {
   "cell_type": "code",
   "execution_count": 178,
   "metadata": {},
   "outputs": [],
   "source": [
    "json_string = '{\"first_name\": \"Guido\", \"last_name\":\"Rossum\"}'"
   ]
  },
  {
   "cell_type": "markdown",
   "metadata": {},
   "source": [
    "It can be parsed like this:"
   ]
  },
  {
   "cell_type": "code",
   "execution_count": 179,
   "metadata": {},
   "outputs": [
    {
     "name": "stdout",
     "output_type": "stream",
     "text": [
      "Guido\n"
     ]
    }
   ],
   "source": [
    "import json\n",
    "json_string = '{\"first_name\": \"Guido\", \"last_name\":\"Rossum\"}'\n",
    "parsed_json = json.loads(json_string)\n",
    "print(parsed_json['first_name'])"
   ]
  },
  {
   "cell_type": "markdown",
   "metadata": {},
   "source": [
    "You can also convert the following to JSON:"
   ]
  },
  {
   "cell_type": "code",
   "execution_count": 181,
   "metadata": {},
   "outputs": [
    {
     "name": "stdout",
     "output_type": "stream",
     "text": [
      "{\"first_name\": \"Guido\", \"second_name\": \"Rossum\", \"titles\": [\"BDFL\", \"Developer\"]}\n"
     ]
    }
   ],
   "source": [
    "d = {\n",
    "    'first_name': 'Guido',\n",
    "    'second_name': 'Rossum',\n",
    "    'titles': ['BDFL', 'Developer'],\n",
    "}\n",
    "\n",
    "print(json.dumps(d))"
   ]
  },
  {
   "cell_type": "code",
   "execution_count": null,
   "metadata": {},
   "outputs": [],
   "source": []
  }
 ],
 "metadata": {
  "kernelspec": {
   "display_name": "Python 3",
   "language": "python",
   "name": "python3"
  },
  "language_info": {
   "codemirror_mode": {
    "name": "ipython",
    "version": 3
   },
   "file_extension": ".py",
   "mimetype": "text/x-python",
   "name": "python",
   "nbconvert_exporter": "python",
   "pygments_lexer": "ipython3",
   "version": "3.7.3"
  }
 },
 "nbformat": 4,
 "nbformat_minor": 1
}
